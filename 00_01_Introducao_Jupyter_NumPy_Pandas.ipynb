{
  "cells": [
    {
      "cell_type": "markdown",
      "metadata": {
        "id": "U6APt5e72l67"
      },
      "source": [
        "<a target=\"_blank\" href=\"https://colab.research.google.com/github/paulotguerra/QXD0178/blob/main/00.01-Introducao-Jupyter-NumPy-Pandas.ipynb\">\n",
        "  <img src=\"https://colab.research.google.com/assets/colab-badge.svg\" alt=\"Open In Colab\"/>\n",
        "</a>"
      ]
    },
    {
      "cell_type": "markdown",
      "metadata": {
        "id": "IREA-F8F2l69"
      },
      "source": [
        "## QXD0178 - Mineração de Dados\n",
        "# Introdução: Jupyter, NumPy e Pandas"
      ]
    },
    {
      "cell_type": "markdown",
      "metadata": {
        "id": "lBrmzMDO2l69"
      },
      "source": [
        "**Professor:** Marcos Antonio de Oliveira ([marcos.deoliveira@ufc.br](mailto:marcos.oliveira@ufc.br))\n",
        "\n",
        "Parcialmente adaptado de: [*Overview of Colaboratory Features*](https://colab.research.google.com/notebooks/basic_features_overview.ipynb)\n"
      ]
    },
    {
      "cell_type": "markdown",
      "metadata": {
        "id": "VV9PqTx42l69"
      },
      "source": [
        "## Jupyter Project"
      ]
    },
    {
      "cell_type": "markdown",
      "metadata": {
        "id": "tPM5uP6B2l69"
      },
      "source": [
        "Jupyter é um projeto com diversas aplicações que permitem criar e editar cadernos interativos baseados na web, nos quais é possível combinar código, texto e gráficos, tornando mais acessível e dinâmica a exploração de dados e a programação."
      ]
    },
    {
      "cell_type": "markdown",
      "metadata": {
        "id": "skwaV2cJ2l6-"
      },
      "source": [
        "O Jupyter Notebook é parte do Jupyter Project é um ambiente baseado em web muito útil para desenvolvimento, colaboração e compartilhamento de implementações Python."
      ]
    },
    {
      "cell_type": "markdown",
      "metadata": {
        "id": "Ewm13fBb2l6-"
      },
      "source": [
        "Jupyter Notebook combinam dois componentes:\n",
        "1. **Cadernos computacionais (notebooks)**: um documento compartilhável que combina código de computador, descrições em linguagem simples, dados, visualizações avançadas como modelos 3D, gráficos, matemática, gráficos e figuras e controles interativos;\n",
        "1. **Aplicativo da Web**: um programa de edição baseado em navegador para criação interativa de notebooks que fornece um ambiente interativo rápido para prototipagem e descrição de código, exploração e visualização de dados e compartilhamento de ideias com outras pessoas.\n"
      ]
    },
    {
      "cell_type": "markdown",
      "metadata": {
        "id": "Tcnqivli2l6-"
      },
      "source": [
        "### Instalação\n",
        "Para instalar o Jupyter Notebook usando o `pip`:\n",
        "```bash\n",
        "pip install notebook\n",
        "```\n",
        "\n",
        "Para executar o Jupyter Notebook faça\n",
        "```bash\n",
        "jupyter notebook\n",
        "```\n"
      ]
    },
    {
      "cell_type": "markdown",
      "metadata": {
        "id": "v_yfw-QG2l6-"
      },
      "source": [
        "Jupyter Lab é uma nova versão do ambiente de desenvolvimento interativo baseado na Web para notebooks, código e dados. Sua interface flexível permite que os usuários configurem e organizem fluxos de trabalho em ciência de dados, computação científica, jornalismo computacional e aprendizado de máquina. Um design modular convida extensões para expandir e enriquecer a funcionalidade."
      ]
    },
    {
      "cell_type": "markdown",
      "metadata": {
        "id": "Dm4PH_1E2l6-"
      },
      "source": [
        "Para instalar o Jupyter Lab usando o `pip`:\n",
        "```bash\n",
        "pip install jupyterlab\n",
        "```\n",
        "\n",
        "Para executar o Jupyter Lab faça\n",
        "```bash\n",
        "jupyter lab\n",
        "```\n"
      ]
    },
    {
      "cell_type": "markdown",
      "metadata": {
        "id": "r4HkPwrb2l6-"
      },
      "source": [
        "### Escrevendo notebooks"
      ]
    },
    {
      "cell_type": "markdown",
      "metadata": {
        "id": "sXPgTiRV2l6-"
      },
      "source": [
        "Um notebook é composto por **células de código** e **células de texto** (como esta)."
      ]
    },
    {
      "cell_type": "markdown",
      "metadata": {
        "id": "icMN-Nol2l6_"
      },
      "source": [
        "#### Células de código\n",
        "Abaixo está uma **célula de código**. Assim que o botão da barra de ferramentas indicar que está conectado, clique na célula para selecioná-la e execute o conteúdo da seguinte forma:\n",
        "\n",
        "* Clique no **ícone Play** a esquerda da célula;\n",
        "* Digite **Ctrl+Enter** para executar a célula no local;\n",
        "* Digite **Shift+Enter** para executar a célula e mover o foco para a próxima célula.\n",
        "\n",
        "Existem opções adicionais para executar algumas ou todas as células no menu **Executar**. Caso a última linha da célula represente um objeto, o Jupyter irá exibir sua visualização.\n"
      ]
    },
    {
      "cell_type": "code",
      "execution_count": null,
      "metadata": {
        "id": "jO10KD0g2l6_",
        "outputId": "b402faad-71f3-4cd1-af9a-95357da4e815"
      },
      "outputs": [
        {
          "data": {
            "text/plain": [
              "12"
            ]
          },
          "execution_count": 1,
          "metadata": {},
          "output_type": "execute_result"
        }
      ],
      "source": [
        "a = 10 + 2\n",
        "a"
      ]
    },
    {
      "cell_type": "markdown",
      "metadata": {
        "id": "IeoJGDAf2l7A"
      },
      "source": [
        "#### Células de texto\n",
        "Você pode **clicar duas vezes** para editar uma **célula de texto**. Para escrever células de texto use a sintaxe de [**Markdown**](https://colab.research.google.com/notebooks/markdown_guide.ipynb).\n",
        "\n",
        "Você também pode adicionar matemática a células de texto usando [LaTeX](http://www.latex-project.org/) que será renderizado via [MathJax](https://www.mathjax.org). Basta colocar a declaração dentro de um par de sinais ``$``. Por exemplo `$\\sqrt{3x-1}+(1+x)^2$` torna-se $\\sqrt{3x-1}+(1+x)^2.$"
      ]
    },
    {
      "cell_type": "markdown",
      "metadata": {
        "id": "BA1i2CGf2l7A"
      },
      "source": [
        "#### Adicionando ou movendo células\n",
        "Você pode adicionar novas células clicando em **+** na barra de ferramentas superior ou usando os botões que aparecem quando você passa o mouse entre as células. Esses botões também estão na barra de ferramentas acima do notebook, onde podem ser usados para adicionar uma célula abaixo da célula atualmente selecionada.\n",
        "\n",
        "Você pode mover uma célula selecionando-a e clicando em **para cima** ou **para baixo** na barra de ferramentas superior.\n",
        "\n"
      ]
    },
    {
      "cell_type": "markdown",
      "metadata": {
        "id": "ipupCy-O2l7A"
      },
      "source": [
        "#### Kernel\n",
        "Os **kernels** são processos específicos da linguagem de programação que são executados de forma independente e interagem com o Jupyter. Eles guardam estados do programa e podem ser iniciados e interrompidos a qualquer momento."
      ]
    },
    {
      "cell_type": "code",
      "execution_count": null,
      "metadata": {
        "id": "66FlBTOf2l7B",
        "outputId": "8fec4a38-5331-487b-cd31-85a49226fc66"
      },
      "outputs": [
        {
          "name": "stdout",
          "output_type": "stream",
          "text": [
            "Sleeping...\n",
            "Done.\n"
          ]
        }
      ],
      "source": [
        "import time\n",
        "print(\"Sleeping...\")\n",
        "time.sleep(10)\n",
        "print(\"Done.\")"
      ]
    },
    {
      "cell_type": "markdown",
      "metadata": {
        "id": "qgC3DTfg2l7B"
      },
      "source": [
        "#### Comandos de sistema\n",
        "O Jupyter inclui atalhos para operações comuns, como `ls`:"
      ]
    },
    {
      "cell_type": "code",
      "execution_count": null,
      "metadata": {
        "id": "nu0slw-72l7B",
        "outputId": "d7156a62-29e9-426d-8294-26deb84248b5"
      },
      "outputs": [
        {
          "name": "stdout",
          "output_type": "stream",
          "text": [
            "bin    dev   lib    libx32\tmnt   root  snap      sys  var\r\n",
            "boot   etc   lib32  lost+found\topt   run   srv       tmp\r\n",
            "cdrom  home  lib64  media\tproc  sbin  swapfile  usr\r\n"
          ]
        }
      ],
      "source": [
        "!ls /"
      ]
    },
    {
      "cell_type": "markdown",
      "metadata": {
        "id": "WTDqJ0G02l7B"
      },
      "source": [
        "Esses comandos podem ser integrados com o código Python"
      ]
    },
    {
      "cell_type": "code",
      "execution_count": null,
      "metadata": {
        "id": "P9ti5B-z2l7B",
        "outputId": "63475053-d8ed-4574-9256-74beb0dc43c5"
      },
      "outputs": [
        {
          "name": "stdout",
          "output_type": "stream",
          "text": [
            "['bin', 'boot', 'cdrom', 'dev', 'etc', 'home', 'lib', 'lib32', 'lib64', 'libx32', 'lost+found', 'media', 'mnt', 'opt', 'proc', 'root', 'run', 'sbin', 'snap', 'srv', 'swapfile', 'sys', 'tmp', 'usr', 'var']\n"
          ]
        }
      ],
      "source": [
        "root_dir = !ls /\n",
        "print(root_dir)"
      ]
    },
    {
      "cell_type": "markdown",
      "metadata": {
        "id": "D694s_E62l7C"
      },
      "source": [
        "#### Magics\n",
        "\n",
        "Existem anotações abreviadas que alteram a forma como o texto de uma célula é executado (Ver [página de magics](https://colab.research.google.com/corgiredirector?site=http%3A%2F%2Fnbviewer.jupyter.org%2Fgithub%2Fipython%2Fipython%2Fblob%2F1.x%2Fexamples%2Fnotebooks%2FCell%2520Magics.ipynb) do Jupyter)."
      ]
    },
    {
      "cell_type": "code",
      "execution_count": null,
      "metadata": {
        "id": "jX04ZLAZ2l7C",
        "outputId": "0485e19b-a54e-4037-9210-0e563cf03527"
      },
      "outputs": [
        {
          "data": {
            "text/html": [
              "<marquee style='width: 30%; color: blue;'><b>Whee!</b></marquee>\n"
            ],
            "text/plain": [
              "<IPython.core.display.HTML object>"
            ]
          },
          "metadata": {},
          "output_type": "display_data"
        }
      ],
      "source": [
        "%%html\n",
        "<marquee style='width: 30%; color: blue;'><b>Whee!</b></marquee>"
      ]
    },
    {
      "cell_type": "code",
      "execution_count": null,
      "metadata": {
        "id": "U42bzWDg2l7C",
        "outputId": "2cd6ecfe-0024-4548-9cfa-693e1bb4516f"
      },
      "outputs": [
        {
          "data": {
            "text/html": [
              "<svg xmlns=\"http://www.w3.org/2000/svg\" viewBox=\"0 0 450 400\" width=\"200\" height=\"200\">\n",
              "  <rect x=\"80\" y=\"60\" width=\"250\" height=\"250\" rx=\"20\" style=\"fill:red; stroke:black; fill-opacity:0.7\" />\n",
              "  <rect x=\"180\" y=\"110\" width=\"250\" height=\"250\" rx=\"40\" style=\"fill:blue; stroke:black; fill-opacity:0.5;\" />\n",
              "</svg>\n"
            ],
            "text/plain": [
              "<IPython.core.display.HTML object>"
            ]
          },
          "metadata": {},
          "output_type": "display_data"
        }
      ],
      "source": [
        "%%html\n",
        "<svg xmlns=\"http://www.w3.org/2000/svg\" viewBox=\"0 0 450 400\" width=\"200\" height=\"200\">\n",
        "  <rect x=\"80\" y=\"60\" width=\"250\" height=\"250\" rx=\"20\" style=\"fill:red; stroke:black; fill-opacity:0.7\" />\n",
        "  <rect x=\"180\" y=\"110\" width=\"250\" height=\"250\" rx=\"40\" style=\"fill:blue; stroke:black; fill-opacity:0.5;\" />\n",
        "</svg>"
      ]
    },
    {
      "cell_type": "code",
      "execution_count": null,
      "metadata": {
        "id": "T5RdZcSv2l7C",
        "outputId": "cd26711f-8a1b-46de-9047-0a0b6cacc92a"
      },
      "outputs": [
        {
          "name": "stdout",
          "output_type": "stream",
          "text": [
            "Hello World\n",
            "CPU times: user 664 µs, sys: 120 µs, total: 784 µs\n",
            "Wall time: 482 µs\n"
          ]
        }
      ],
      "source": [
        "%time print(\"Hello World\")"
      ]
    },
    {
      "cell_type": "markdown",
      "metadata": {
        "id": "PR3ES4pD2l7C"
      },
      "source": [
        "## NumPy"
      ]
    },
    {
      "cell_type": "markdown",
      "metadata": {
        "id": "15Qg9VgP2l7C"
      },
      "source": [
        "NumPy (abreviação de *Numerical Python*) fornece uma interface eficiente para armazenar e operar em grandes buffers de dados. As matrizes NumPy formam o núcleo de quase todo o ecossistema de ferramentas de ciência de dados em Python."
      ]
    },
    {
      "cell_type": "markdown",
      "metadata": {
        "id": "CmwYFrbF2l7C"
      },
      "source": [
        "De certa forma, as matrizes NumPy são como o tipo `list` do Python, mas à medida que as matrizes aumentam de tamanho as matrizes NumPy fornecem armazenamento e operações de dados muito eficientes."
      ]
    },
    {
      "cell_type": "markdown",
      "metadata": {
        "id": "E64YbDiZ2l7C"
      },
      "source": [
        "Primeiro é importante entender que um simples inteiro em Python é muito mais que apenas o armazenamento direto deste. No Python 3.10, a definição do tipo inteiro (longo) se parece com o seguinte código:\n",
        "\n",
        "```C\n",
        "struct _longobject {\n",
        "    long ob_refcnt; // contador que auxilia a alocação e desalocação de memória\n",
        "    PyTypeObject *ob_type; // tipo da variável\n",
        "    size_t ob_size; // especifica o tamanho do dado\n",
        "    long ob_digit[1]; // valor do inteiro que a variável representa\n",
        "};\n",
        "```\n",
        "Essa informação extra na estrutura inteira do Python é o que permite que o Python seja codificado de forma tão livre e dinâmica."
      ]
    },
    {
      "cell_type": "markdown",
      "metadata": {
        "id": "9h6dGOZZ2l7C"
      },
      "source": [
        "No Python, um `list` também é muito mais que apenas uma lista"
      ]
    },
    {
      "cell_type": "code",
      "execution_count": null,
      "metadata": {
        "id": "WLRCKVKQ2l7C",
        "outputId": "05daf5f4-a370-4cdd-b525-03828f359c27"
      },
      "outputs": [
        {
          "data": {
            "text/plain": [
              "[0, 1, 2, 3, 4, 5, 6, 7, 8, 9]"
            ]
          },
          "execution_count": 8,
          "metadata": {},
          "output_type": "execute_result"
        }
      ],
      "source": [
        "L1 = list(range(10))\n",
        "L1"
      ]
    },
    {
      "cell_type": "code",
      "execution_count": null,
      "metadata": {
        "id": "uFxLb1h_2l7D",
        "outputId": "e6ef4ea9-85e6-42a3-b2f2-7be5ec8bc6a3"
      },
      "outputs": [
        {
          "data": {
            "text/plain": [
              "[bool, str, float, int]"
            ]
          },
          "execution_count": 9,
          "metadata": {},
          "output_type": "execute_result"
        }
      ],
      "source": [
        "L2 = [True, \"2\", 3.0, 4]\n",
        "[type(x) for x in L2]"
      ]
    },
    {
      "cell_type": "markdown",
      "metadata": {
        "id": "4rCrrjtL2l7D"
      },
      "source": [
        "Para permitir esses tipos flexíveis, cada item da lista deve conter seu próprio tipo, contagem de referência e outras informações. Ou seja, cada item é um objeto Python completo."
      ]
    },
    {
      "cell_type": "markdown",
      "metadata": {
        "id": "T90d3ENr2l7D"
      },
      "source": [
        "De modo similar ao que ocorre com o tipo `int` de C e Python, trabalhar com grandes dados necessita de muito mais informações e eficiência que o tipo `list` do Python pode proporcionar."
      ]
    },
    {
      "cell_type": "markdown",
      "metadata": {
        "id": "SDxZk5ob2l7D"
      },
      "source": [
        "Em Python existe o tipo de dados nativo `array`, que pode ser usado para criar vetores grandes e uniformes, que podem ser armazenados de modo muito mais eficiente."
      ]
    },
    {
      "cell_type": "code",
      "execution_count": null,
      "metadata": {
        "id": "IojQhbLc2l7D",
        "outputId": "71379f82-bd87-4d25-f127-2bae68f7e1f8"
      },
      "outputs": [
        {
          "data": {
            "text/plain": [
              "array('i', [0, 1, 2, 3, 4, 5, 6, 7, 8, 9])"
            ]
          },
          "execution_count": 10,
          "metadata": {},
          "output_type": "execute_result"
        }
      ],
      "source": [
        "import array\n",
        "L = list(range(10))\n",
        "A = array.array('i', L)\n",
        "A"
      ]
    },
    {
      "cell_type": "markdown",
      "metadata": {
        "id": "g5lcwwBE2l7D"
      },
      "source": [
        "O NumPy traz contudo o tipo `ndarray` que adiciona a essa eficiencia *operações* sobre esses dados."
      ]
    },
    {
      "cell_type": "code",
      "execution_count": null,
      "metadata": {
        "id": "qU2isGBQ2l7D"
      },
      "outputs": [],
      "source": [
        "import numpy as np"
      ]
    },
    {
      "cell_type": "code",
      "execution_count": null,
      "metadata": {
        "id": "Hj0AyY3H2l7D",
        "outputId": "fad241b3-956f-46c9-d40e-d88154ff46f0"
      },
      "outputs": [
        {
          "data": {
            "text/plain": [
              "array([1, 4, 2, 5, 3])"
            ]
          },
          "execution_count": 12,
          "metadata": {},
          "output_type": "execute_result"
        }
      ],
      "source": [
        "np.array([1, 4, 2, 5, 3])"
      ]
    },
    {
      "cell_type": "code",
      "execution_count": null,
      "metadata": {
        "id": "6WajWyV22l7D",
        "outputId": "f70f598a-9de9-45ec-a772-9a8ef0efd407"
      },
      "outputs": [
        {
          "data": {
            "text/plain": [
              "array([3.14, 4.  , 2.  , 3.  ])"
            ]
          },
          "execution_count": 13,
          "metadata": {},
          "output_type": "execute_result"
        }
      ],
      "source": [
        "np.array([3.14, 4, 2, 3])"
      ]
    },
    {
      "cell_type": "code",
      "execution_count": null,
      "metadata": {
        "id": "Tn7FJQqj2l7E",
        "outputId": "86b2e48e-d159-404a-d157-624a781396da"
      },
      "outputs": [
        {
          "data": {
            "text/plain": [
              "array([3.14, 2.  , 3.  , 4.  ], dtype=float32)"
            ]
          },
          "execution_count": 14,
          "metadata": {},
          "output_type": "execute_result"
        }
      ],
      "source": [
        "np.array([3.14, 2, 3, 4], dtype=np.float32)"
      ]
    },
    {
      "cell_type": "code",
      "execution_count": null,
      "metadata": {
        "id": "R2Hn2TJl2l7E",
        "outputId": "cb3eb5ca-5a62-4928-e57d-da152c2ff720"
      },
      "outputs": [
        {
          "data": {
            "text/plain": [
              "array([[2, 3, 4],\n",
              "       [4, 5, 6],\n",
              "       [6, 7, 8]])"
            ]
          },
          "execution_count": 15,
          "metadata": {},
          "output_type": "execute_result"
        }
      ],
      "source": [
        "np.array([range(i, i + 3) for i in [2, 4, 6]])"
      ]
    },
    {
      "cell_type": "markdown",
      "metadata": {
        "id": "olvbhDl42l7E"
      },
      "source": [
        "### Arrays com NumPy"
      ]
    },
    {
      "cell_type": "markdown",
      "metadata": {
        "id": "XbNB0O852l7E"
      },
      "source": [
        "#### Modos de criar arrays com NumPy"
      ]
    },
    {
      "cell_type": "code",
      "execution_count": null,
      "metadata": {
        "id": "wSrAnFAT2l7E",
        "outputId": "60780331-d4be-44e9-d539-c77714e9e7ee"
      },
      "outputs": [
        {
          "data": {
            "text/plain": [
              "array([0, 0, 0, 0, 0, 0, 0, 0, 0, 0])"
            ]
          },
          "execution_count": 16,
          "metadata": {},
          "output_type": "execute_result"
        }
      ],
      "source": [
        "np.zeros(10, dtype=int)"
      ]
    },
    {
      "cell_type": "code",
      "execution_count": null,
      "metadata": {
        "id": "8zQNwMS_2l7E",
        "outputId": "6226f920-4127-42c5-d617-ac48613b488c"
      },
      "outputs": [
        {
          "data": {
            "text/plain": [
              "array([[1., 1., 1., 1., 1.],\n",
              "       [1., 1., 1., 1., 1.],\n",
              "       [1., 1., 1., 1., 1.]])"
            ]
          },
          "execution_count": 17,
          "metadata": {},
          "output_type": "execute_result"
        }
      ],
      "source": [
        "np.ones((3, 5), dtype=float)"
      ]
    },
    {
      "cell_type": "code",
      "execution_count": null,
      "metadata": {
        "id": "NWMO5ooN2l7E",
        "outputId": "40c8e6cc-0289-45e8-cac4-11ea04198459"
      },
      "outputs": [
        {
          "data": {
            "text/plain": [
              "array([[3.14, 3.14, 3.14, 3.14, 3.14],\n",
              "       [3.14, 3.14, 3.14, 3.14, 3.14],\n",
              "       [3.14, 3.14, 3.14, 3.14, 3.14]])"
            ]
          },
          "execution_count": 18,
          "metadata": {},
          "output_type": "execute_result"
        }
      ],
      "source": [
        "np.full((3, 5), 3.14)"
      ]
    },
    {
      "cell_type": "code",
      "execution_count": null,
      "metadata": {
        "id": "csRQGyTh2l7E",
        "outputId": "3d5c67a3-0aba-41d7-e006-80379931d9fc"
      },
      "outputs": [
        {
          "data": {
            "text/plain": [
              "array([ 0,  1,  2,  3,  4,  5,  6,  7,  8,  9, 10, 11, 12, 13, 14, 15, 16,\n",
              "       17, 18, 19])"
            ]
          },
          "execution_count": 19,
          "metadata": {},
          "output_type": "execute_result"
        }
      ],
      "source": [
        "np.arange(0, 20)"
      ]
    },
    {
      "cell_type": "markdown",
      "metadata": {
        "id": "5eB8HFQa2l7E"
      },
      "source": [
        "#### Acessando elementos do array"
      ]
    },
    {
      "cell_type": "code",
      "execution_count": null,
      "metadata": {
        "id": "0CDE2yHb2l7E",
        "outputId": "3ce4e53e-cd49-461f-8c74-4d5a7d87869f"
      },
      "outputs": [
        {
          "data": {
            "text/plain": [
              "(1, 2, 5, 4)"
            ]
          },
          "execution_count": 20,
          "metadata": {},
          "output_type": "execute_result"
        }
      ],
      "source": [
        "x = np.array([1, 2, 3, 4, 5])\n",
        "x[0], x[1], x[-1], x[-2]"
      ]
    },
    {
      "cell_type": "code",
      "execution_count": null,
      "metadata": {
        "id": "61WuN-nH2l7F",
        "outputId": "b1b93754-1cde-4da1-87e0-ea76d32949e1"
      },
      "outputs": [
        {
          "data": {
            "text/plain": [
              "array([[2, 3, 4],\n",
              "       [4, 5, 6],\n",
              "       [6, 7, 8]])"
            ]
          },
          "execution_count": 21,
          "metadata": {},
          "output_type": "execute_result"
        }
      ],
      "source": [
        "y = np.array([range(i, i + 3) for i in [2, 4, 6]])\n",
        "y"
      ]
    },
    {
      "cell_type": "code",
      "execution_count": null,
      "metadata": {
        "id": "rvmfsz3r2l7F",
        "outputId": "e0c9366f-71e9-49ce-ee4c-922fbb5e0d83"
      },
      "outputs": [
        {
          "data": {
            "text/plain": [
              "6"
            ]
          },
          "execution_count": 22,
          "metadata": {},
          "output_type": "execute_result"
        }
      ],
      "source": [
        "y[1,2]"
      ]
    },
    {
      "cell_type": "code",
      "execution_count": null,
      "metadata": {
        "id": "FPTBVyKl2l7F",
        "outputId": "890a0973-1167-4bb7-a3f4-14dc48e6bb57"
      },
      "outputs": [
        {
          "data": {
            "text/plain": [
              "array([[2, 3, 0],\n",
              "       [4, 5, 6],\n",
              "       [6, 7, 8]])"
            ]
          },
          "execution_count": 23,
          "metadata": {},
          "output_type": "execute_result"
        }
      ],
      "source": [
        "y[0,-1] = 0\n",
        "y"
      ]
    },
    {
      "cell_type": "markdown",
      "metadata": {
        "id": "86KkGVS92l7F"
      },
      "source": [
        "#### Acessando subarrays de um array unidimensional"
      ]
    },
    {
      "cell_type": "code",
      "execution_count": null,
      "metadata": {
        "id": "GXGrzZuH2l7F",
        "outputId": "8ae92f77-17ec-4814-b9fc-4a7dbb0d99e1"
      },
      "outputs": [
        {
          "data": {
            "text/plain": [
              "(array([0, 1, 2]), array([3, 4]), array([1, 2, 3]))"
            ]
          },
          "execution_count": 24,
          "metadata": {},
          "output_type": "execute_result"
        }
      ],
      "source": [
        "x = np.array([0, 1, 2, 3, 4])\n",
        "x[:3], x[3:], x[1:4]"
      ]
    },
    {
      "cell_type": "code",
      "execution_count": null,
      "metadata": {
        "id": "N1GLpmMf2l7F",
        "outputId": "a6f0b779-4ce4-4ac7-aac6-8a16ce1451de"
      },
      "outputs": [
        {
          "data": {
            "text/plain": [
              "array([0, 1, 2, 3, 4])"
            ]
          },
          "execution_count": 25,
          "metadata": {},
          "output_type": "execute_result"
        }
      ],
      "source": [
        "x"
      ]
    },
    {
      "cell_type": "code",
      "execution_count": null,
      "metadata": {
        "id": "VajkCQeM2l7F",
        "outputId": "f47037b2-2400-466a-ca95-440fd47a139d"
      },
      "outputs": [
        {
          "data": {
            "text/plain": [
              "array([4, 2, 0])"
            ]
          },
          "execution_count": 26,
          "metadata": {},
          "output_type": "execute_result"
        }
      ],
      "source": [
        "x[::-2]"
      ]
    },
    {
      "cell_type": "markdown",
      "metadata": {
        "id": "UNF7BQHg2l7F"
      },
      "source": [
        "#### Acessando subarrays de um array multidimensional"
      ]
    },
    {
      "cell_type": "code",
      "execution_count": null,
      "metadata": {
        "id": "wR6Tc22Q2l7F",
        "outputId": "4bf28f0d-883f-4e93-e96f-f81ddc6e7cc9"
      },
      "outputs": [
        {
          "data": {
            "text/plain": [
              "array([[2, 3, 4],\n",
              "       [4, 5, 6],\n",
              "       [6, 7, 8]])"
            ]
          },
          "execution_count": 27,
          "metadata": {},
          "output_type": "execute_result"
        }
      ],
      "source": [
        "y = np.array([range(i, i + 3) for i in [2, 4, 6]])\n",
        "y"
      ]
    },
    {
      "cell_type": "code",
      "execution_count": null,
      "metadata": {
        "id": "y1PLzEHI2l7F",
        "outputId": "282eda2a-5842-4bde-95e1-b251f55a837d"
      },
      "outputs": [
        {
          "data": {
            "text/plain": [
              "array([[2, 3, 4],\n",
              "       [4, 5, 6]])"
            ]
          },
          "execution_count": 28,
          "metadata": {},
          "output_type": "execute_result"
        }
      ],
      "source": [
        "y[:2, :3]"
      ]
    },
    {
      "cell_type": "code",
      "execution_count": null,
      "metadata": {
        "id": "849mUn9U2l7F",
        "outputId": "73272fe8-9835-48f5-8b6b-7b40bc1da7d1"
      },
      "outputs": [
        {
          "data": {
            "text/plain": [
              "array([[2, 3, 4],\n",
              "       [4, 5, 6],\n",
              "       [6, 7, 8]])"
            ]
          },
          "execution_count": 29,
          "metadata": {},
          "output_type": "execute_result"
        }
      ],
      "source": [
        "y"
      ]
    },
    {
      "cell_type": "code",
      "execution_count": null,
      "metadata": {
        "id": "KG8CU7np2l7F",
        "outputId": "d610a728-5053-4f84-a08b-36a2ef6214d0"
      },
      "outputs": [
        {
          "data": {
            "text/plain": [
              "array([[8, 7, 6],\n",
              "       [6, 5, 4],\n",
              "       [4, 3, 2]])"
            ]
          },
          "execution_count": 30,
          "metadata": {},
          "output_type": "execute_result"
        }
      ],
      "source": [
        "# y[:2, ::2]\n",
        "y[::-1, ::-1]"
      ]
    },
    {
      "cell_type": "markdown",
      "metadata": {
        "id": "UFywUWdS2l7F"
      },
      "source": [
        "#### Acessando linhas e colunas"
      ]
    },
    {
      "cell_type": "code",
      "execution_count": null,
      "metadata": {
        "id": "yOWTFNqQ2l7G",
        "outputId": "13609b77-7140-49d5-9789-470b960acfbb"
      },
      "outputs": [
        {
          "data": {
            "text/plain": [
              "array([[2, 3, 4],\n",
              "       [4, 5, 6],\n",
              "       [6, 7, 8]])"
            ]
          },
          "execution_count": 31,
          "metadata": {},
          "output_type": "execute_result"
        }
      ],
      "source": [
        "y = np.array([range(i, i + 3) for i in [2, 4, 6]])\n",
        "y"
      ]
    },
    {
      "cell_type": "code",
      "execution_count": null,
      "metadata": {
        "id": "cAjuYTDD2l7G",
        "outputId": "f9f39460-5fb6-44de-813f-6b1367a6ca59"
      },
      "outputs": [
        {
          "data": {
            "text/plain": [
              "(array([4, 5, 6]), array([3, 5, 7]))"
            ]
          },
          "execution_count": 32,
          "metadata": {},
          "output_type": "execute_result"
        }
      ],
      "source": [
        "y[1,:], y[:,1]"
      ]
    },
    {
      "cell_type": "markdown",
      "metadata": {
        "id": "0Co_n2iF2l7G"
      },
      "source": [
        "#### Remodelando arrays"
      ]
    },
    {
      "cell_type": "code",
      "execution_count": null,
      "metadata": {
        "id": "tsxCVPZ52l7G",
        "outputId": "c75f97c5-194d-4343-fd16-41a63bc828d3"
      },
      "outputs": [
        {
          "data": {
            "text/plain": [
              "array([1, 2, 3, 4, 5, 6, 7, 8, 9])"
            ]
          },
          "execution_count": 33,
          "metadata": {},
          "output_type": "execute_result"
        }
      ],
      "source": [
        "x = np.arange(1, 10)\n",
        "x"
      ]
    },
    {
      "cell_type": "code",
      "execution_count": null,
      "metadata": {
        "id": "88zgwLny2l7G",
        "outputId": "e48b2d71-1565-48bd-d3cb-ee10e7ed3a3f"
      },
      "outputs": [
        {
          "data": {
            "text/plain": [
              "array([[1, 2, 3],\n",
              "       [4, 5, 6],\n",
              "       [7, 8, 9]])"
            ]
          },
          "execution_count": 34,
          "metadata": {},
          "output_type": "execute_result"
        }
      ],
      "source": [
        "x.reshape((3,3))"
      ]
    },
    {
      "cell_type": "code",
      "execution_count": null,
      "metadata": {
        "id": "z3MvdDnR2l7G",
        "outputId": "eb231041-2eef-4811-c7a4-6f44686f07d8"
      },
      "outputs": [
        {
          "data": {
            "text/plain": [
              "(array([[1, 2, 3, 4, 5, 6, 7, 8, 9]]),\n",
              " array([[1],\n",
              "        [2],\n",
              "        [3],\n",
              "        [4],\n",
              "        [5],\n",
              "        [6],\n",
              "        [7],\n",
              "        [8],\n",
              "        [9]]))"
            ]
          },
          "execution_count": 35,
          "metadata": {},
          "output_type": "execute_result"
        }
      ],
      "source": [
        "x.reshape((1,9)), x.reshape((9,1))"
      ]
    },
    {
      "cell_type": "markdown",
      "metadata": {
        "id": "rMYrJqMd2l7G"
      },
      "source": [
        "####  Concatenando arrays"
      ]
    },
    {
      "cell_type": "code",
      "execution_count": null,
      "metadata": {
        "id": "7YPIuwaF2l7G",
        "outputId": "a1308421-382f-4a60-bd0b-5ff8d7e3db57"
      },
      "outputs": [
        {
          "data": {
            "text/plain": [
              "array([1, 2, 3, 3, 2, 1, 9, 9, 9])"
            ]
          },
          "execution_count": 36,
          "metadata": {},
          "output_type": "execute_result"
        }
      ],
      "source": [
        "x = np.array([1, 2, 3])\n",
        "y = np.array([3, 2, 1])\n",
        "z = np.array([9, 9, 9])\n",
        "np.concatenate([x, y, z])"
      ]
    },
    {
      "cell_type": "code",
      "execution_count": null,
      "metadata": {
        "id": "jalS10LH2l7G",
        "outputId": "5a3df776-9672-425e-cc1c-6305b0d1afb4"
      },
      "outputs": [
        {
          "data": {
            "text/plain": [
              "array([[1, 2, 3],\n",
              "       [4, 5, 6],\n",
              "       [7, 8, 9]])"
            ]
          },
          "execution_count": 37,
          "metadata": {},
          "output_type": "execute_result"
        }
      ],
      "source": [
        "y = np.arange(1, 10).reshape((3, 3))\n",
        "y"
      ]
    },
    {
      "cell_type": "code",
      "execution_count": null,
      "metadata": {
        "id": "OqUvy8612l7G",
        "outputId": "eeb3f473-34f6-4aa3-94a0-7a1ab3a339bb"
      },
      "outputs": [
        {
          "data": {
            "text/plain": [
              "array([[1, 2, 3],\n",
              "       [4, 5, 6],\n",
              "       [7, 8, 9],\n",
              "       [1, 2, 3],\n",
              "       [4, 5, 6],\n",
              "       [7, 8, 9]])"
            ]
          },
          "execution_count": 38,
          "metadata": {},
          "output_type": "execute_result"
        }
      ],
      "source": [
        "np.concatenate([y,y])"
      ]
    },
    {
      "cell_type": "code",
      "execution_count": null,
      "metadata": {
        "id": "T3OwG_Rl2l7H",
        "outputId": "068b5ba2-1216-4668-8f88-60d0743d2086"
      },
      "outputs": [
        {
          "data": {
            "text/plain": [
              "array([[1, 2, 3, 1, 2, 3],\n",
              "       [4, 5, 6, 4, 5, 6],\n",
              "       [7, 8, 9, 7, 8, 9]])"
            ]
          },
          "execution_count": 39,
          "metadata": {},
          "output_type": "execute_result"
        }
      ],
      "source": [
        "np.concatenate([y, y], axis=1)"
      ]
    },
    {
      "cell_type": "markdown",
      "metadata": {
        "id": "9s7Fxurg2l7H"
      },
      "source": [
        "####  Dividindo arrays"
      ]
    },
    {
      "cell_type": "code",
      "execution_count": null,
      "metadata": {
        "id": "iVzn10wb2l7H",
        "outputId": "625885b1-76df-42cc-9339-38e315197ca6"
      },
      "outputs": [
        {
          "data": {
            "text/plain": [
              "(array([1, 2, 3]), array([99, 99]), array([3, 2, 1]))"
            ]
          },
          "execution_count": 40,
          "metadata": {},
          "output_type": "execute_result"
        }
      ],
      "source": [
        "x = [1, 2, 3, 99, 99, 3, 2, 1]\n",
        "x1, x2, x3 = np.split(x, [3, 5])\n",
        "x1, x2, x3"
      ]
    },
    {
      "cell_type": "code",
      "execution_count": null,
      "metadata": {
        "id": "BBaoa7tT2l7H",
        "outputId": "02d713be-ae93-4b9a-a0f6-b5505b1d06b4"
      },
      "outputs": [
        {
          "data": {
            "text/plain": [
              "array([[ 0,  1,  2,  3],\n",
              "       [ 4,  5,  6,  7],\n",
              "       [ 8,  9, 10, 11],\n",
              "       [12, 13, 14, 15]])"
            ]
          },
          "execution_count": 41,
          "metadata": {},
          "output_type": "execute_result"
        }
      ],
      "source": [
        "y = np.arange(16).reshape((4, 4))\n",
        "y"
      ]
    },
    {
      "cell_type": "code",
      "execution_count": null,
      "metadata": {
        "id": "MxligZme2l7H",
        "outputId": "d3c725d6-dd6a-46f8-f065-075efc01bab5"
      },
      "outputs": [
        {
          "data": {
            "text/plain": [
              "[array([[0, 1, 2, 3],\n",
              "        [4, 5, 6, 7]]),\n",
              " array([[ 8,  9, 10, 11],\n",
              "        [12, 13, 14, 15]])]"
            ]
          },
          "execution_count": 42,
          "metadata": {},
          "output_type": "execute_result"
        }
      ],
      "source": [
        "np.vsplit(y, [2])"
      ]
    },
    {
      "cell_type": "code",
      "execution_count": null,
      "metadata": {
        "id": "OLY32cnf2l7H",
        "outputId": "82f31572-30c0-4198-8fac-0c3da78a2286"
      },
      "outputs": [
        {
          "data": {
            "text/plain": [
              "[array([[ 0,  1],\n",
              "        [ 4,  5],\n",
              "        [ 8,  9],\n",
              "        [12, 13]]),\n",
              " array([[ 2,  3],\n",
              "        [ 6,  7],\n",
              "        [10, 11],\n",
              "        [14, 15]])]"
            ]
          },
          "execution_count": 43,
          "metadata": {},
          "output_type": "execute_result"
        }
      ],
      "source": [
        "np.hsplit(y, [2])"
      ]
    },
    {
      "cell_type": "markdown",
      "metadata": {
        "id": "uYi_exHS2l7H"
      },
      "source": [
        "### Operações sobre arrays (*Ufunc*)"
      ]
    },
    {
      "cell_type": "markdown",
      "metadata": {
        "id": "F6raBnKR2l7H"
      },
      "source": [
        "A implementação padrão do Python (conhecida como CPython) faz algumas operações muito lentamente.\n",
        "\n",
        "Isso se deve em parte à natureza dinâmica e interpretada da linguagem; os tipos são flexíveis, portanto, as sequências de operações não podem ser compiladas em código de máquina eficiente, como em linguagens como C e Fortran."
      ]
    },
    {
      "cell_type": "markdown",
      "metadata": {
        "id": "AeEseYfl2l7H"
      },
      "source": [
        "O NumPy fornece operação *vetorizada*, uma interface conveniente para esse tipo de rotina compilada e tipada estaticamente. Essa abordagem vetorizada foi projetada para enviar o loop para a camada compilada subjacente ao NumPy, levando a uma execução muito mais rápida."
      ]
    },
    {
      "cell_type": "markdown",
      "metadata": {
        "id": "7Rrg4uJv2l7H"
      },
      "source": [
        "As operações vetorizadas no NumPy são implementadas via **Ufuncs** (*Universal Functions*), cujo objetivo principal é executar rapidamente operações repetidas em valores em arrays NumPy."
      ]
    },
    {
      "cell_type": "code",
      "execution_count": null,
      "metadata": {
        "id": "Myy87_Vf2l7H",
        "outputId": "37ffdabe-7f6d-4b78-f2fc-e8f4f7c8dc9a"
      },
      "outputs": [
        {
          "data": {
            "text/plain": [
              "array([     1,      2,      3, ..., 999997, 999998, 999999])"
            ]
          },
          "execution_count": 44,
          "metadata": {},
          "output_type": "execute_result"
        }
      ],
      "source": [
        "import numpy as np\n",
        "\n",
        "big_array = np.arange(1, 1000000)\n",
        "big_array"
      ]
    },
    {
      "cell_type": "code",
      "execution_count": null,
      "metadata": {
        "id": "eV-8wlp52l7H",
        "outputId": "0d9e65d6-50e7-4fd5-c7b6-98a7a1437ace"
      },
      "outputs": [
        {
          "name": "stdout",
          "output_type": "stream",
          "text": [
            "CPU times: user 2.94 s, sys: 22.5 ms, total: 2.96 s\n",
            "Wall time: 2.98 s\n"
          ]
        },
        {
          "data": {
            "text/plain": [
              "array([5.000000e-01, 1.000000e+00, 1.500000e+00, ..., 4.999985e+05,\n",
              "       4.999990e+05, 4.999995e+05])"
            ]
          },
          "execution_count": 45,
          "metadata": {},
          "output_type": "execute_result"
        }
      ],
      "source": [
        "def divide_by_2(values):\n",
        "    output = np.empty(len(values))\n",
        "    for i in range(len(values)):\n",
        "        output[i] = values[i] / 2.0\n",
        "    return output\n",
        "\n",
        "%time divide_by_2(big_array)"
      ]
    },
    {
      "cell_type": "code",
      "execution_count": null,
      "metadata": {
        "id": "vM6irET52l7H",
        "outputId": "a4d016a3-19bb-469a-b76d-2440e2fbcdb4"
      },
      "outputs": [
        {
          "name": "stdout",
          "output_type": "stream",
          "text": [
            "CPU times: user 3.86 ms, sys: 7.4 ms, total: 11.3 ms\n",
            "Wall time: 13.8 ms\n"
          ]
        },
        {
          "data": {
            "text/plain": [
              "array([5.000000e-01, 1.000000e+00, 1.500000e+00, ..., 4.999985e+05,\n",
              "       4.999990e+05, 4.999995e+05])"
            ]
          },
          "execution_count": 46,
          "metadata": {},
          "output_type": "execute_result"
        }
      ],
      "source": [
        "%time big_array / 2.0"
      ]
    },
    {
      "cell_type": "code",
      "execution_count": null,
      "metadata": {
        "id": "T8eXikuL2l7I",
        "outputId": "01c150fb-5aaa-40e6-f75f-f0fe657a68c7"
      },
      "outputs": [
        {
          "name": "stdout",
          "output_type": "stream",
          "text": [
            "CPU times: user 5 ms, sys: 24.3 ms, total: 29.3 ms\n",
            "Wall time: 29 ms\n"
          ]
        },
        {
          "data": {
            "text/plain": [
              "array([           1,            4,            9, ..., 999994000009,\n",
              "       999996000004, 999998000001])"
            ]
          },
          "execution_count": 47,
          "metadata": {},
          "output_type": "execute_result"
        }
      ],
      "source": [
        "%time big_array * big_array"
      ]
    },
    {
      "cell_type": "markdown",
      "metadata": {
        "id": "AQpglMjB2l7I"
      },
      "source": [
        "#### Lista de operadores aritméticos implementados no NumPy\n",
        "\n",
        "| Operador    | Ufunc equivalente | Descrição                         |\n",
        "|-------------|-------------------|-----------------------------------|\n",
        "|`+`          |`np.add`           |Adição (ex., `1 + 1 = 2`)          |\n",
        "|`-`          |`np.subtract`      |Subtração (ex., `3 - 2 = 1`)       |\n",
        "|`-`          |`np.negative`      |Negação unária (ex., `-2`)         |\n",
        "|`*`          |`np.multiply`      |Multiplicação (ex., `2 * 3 = 6`)   |\n",
        "|`/`          |`np.divide`        |Divisão (ex., `3 / 2 = 1.5`)       |\n",
        "|`//`         |`np.floor_divide`  |Divisão inteira (ex., `3 // 2 = 1`)|\n",
        "|`**`         |`np.power`         |Exponenciação (ex., `2 ** 3 = 8`)  |\n",
        "|`%`          |`np.mod`           |Módulo (ex., `9 % 4 = 1`)          |"
      ]
    },
    {
      "cell_type": "code",
      "execution_count": null,
      "metadata": {
        "id": "dOUwXCG42l7I",
        "outputId": "40a68dac-a72f-42c8-ac38-8056a3b0e4b5"
      },
      "outputs": [
        {
          "name": "stdout",
          "output_type": "stream",
          "text": [
            "CPU times: user 9.67 ms, sys: 4.23 ms, total: 13.9 ms\n",
            "Wall time: 15.5 ms\n"
          ]
        },
        {
          "data": {
            "text/plain": [
              "array([     0,      1,      1, ..., 499998, 499999, 499999])"
            ]
          },
          "execution_count": 48,
          "metadata": {},
          "output_type": "execute_result"
        }
      ],
      "source": [
        "big_array = np.arange(1, 1000000)\n",
        "\n",
        "%time big_array // 2"
      ]
    },
    {
      "cell_type": "markdown",
      "metadata": {
        "id": "ImL58z6-2l7I"
      },
      "source": [
        "#### Outros operadores\n",
        "\n",
        "| Operador    | Ufunc equivalente | Descrição                                |\n",
        "|-------------|-------------------|------------------------------------------|\n",
        "|`abs`        |`np.absolute`      |Valor absoluto (ex., `abs(-1) = 1`)       |\n",
        "|`sin`        |`np.sin`           |Seno (ex., `sen(pi/2) = 1`)               |\n",
        "|`cos`        |`np.cos`           |Cosseno (ex., `cos(2*pi) = 1`)            |\n",
        "|`tan`        |`np.tan`           |Tangente (ex., `tan(pi/4) = 1`)           |\n",
        "|`e^x`        |`np.exp`           |Exponencial (ex., `e^1 = 2.7182`)         |\n",
        "|`2^x`        |`np.exp2`          |Exponencial (ex., `2^1 = 2`)              |\n",
        "|`ln`         |`np.log`           |Logaritmo natural (ex., `ln(10) = 2.3025`)|\n",
        "|`log`        |`np.log10`         |Logaritmo base 10 (ex., `log10(10)= 1`)   |"
      ]
    },
    {
      "cell_type": "code",
      "execution_count": null,
      "metadata": {
        "id": "C6rRQrW42l7I",
        "outputId": "9c1a709f-bb4e-4f59-a070-76fec34f47bf"
      },
      "outputs": [
        {
          "name": "stdout",
          "output_type": "stream",
          "text": [
            "CPU times: user 41.8 ms, sys: 4.21 ms, total: 46 ms\n",
            "Wall time: 47.1 ms\n"
          ]
        },
        {
          "data": {
            "text/plain": [
              "array([0.        , 0.30103   , 0.47712125, ..., 5.9999987 , 5.99999913,\n",
              "       5.99999957])"
            ]
          },
          "execution_count": 49,
          "metadata": {},
          "output_type": "execute_result"
        }
      ],
      "source": [
        "big_array_pi = big_array*np.pi\n",
        "%time np.log10(big_array)"
      ]
    },
    {
      "cell_type": "markdown",
      "metadata": {
        "id": "AKld6xb62l7I"
      },
      "source": [
        "#### Operações avançadas\n",
        "\n",
        "| Ufunc                      |Descrição              |\n",
        "|----------------------------|-----------------------|\n",
        "|`np.add.reduce`             |Somatório              |\n",
        "|`np.multiply.reduce`        |Produtório             |\n",
        "|`np.add.accumulate`         |Acumular soma          |\n",
        "|`np.multiply.accumulate(x)` |Acumular multiplicação |\n",
        "|`np.multiply.outer`         |Tabela de multiplicação|\n"
      ]
    },
    {
      "cell_type": "code",
      "execution_count": null,
      "metadata": {
        "id": "AL4DfpeF2l7I",
        "outputId": "80376c2b-ee7e-45af-f8ff-d87218779f75"
      },
      "outputs": [
        {
          "data": {
            "text/plain": [
              "array([ 1,  3,  6, 10, 15])"
            ]
          },
          "execution_count": 50,
          "metadata": {},
          "output_type": "execute_result"
        }
      ],
      "source": [
        "x = np.arange(1, 6)\n",
        "np.add.accumulate(x)"
      ]
    },
    {
      "cell_type": "markdown",
      "metadata": {
        "id": "qZEa9AF82l7I"
      },
      "source": [
        "#### Operadores booleanos"
      ]
    },
    {
      "cell_type": "markdown",
      "metadata": {
        "id": "0WgiUzxn2l7I"
      },
      "source": [
        "Lista de operadores booleanos implementados no NumPy\n",
        "\n",
        "| Operador    | Ufunc equivalente | Descrição                               |\n",
        "|-------------|-------------------|-----------------------------------------|\n",
        "|`&`          |`np.bitwise_and`   | Conjunção (ex. `1 & 0 = 0`)             |\n",
        "|&#124;       |`np.bitwise_or`    | Disjunção (ex. `1 \\| 0 = 1`)      |\n",
        "|`^`          |`np.bitwise_xor`   | Disjunção-exclusiva (ex. `1 ^ 1 = 0`)   |\n",
        "|`~`          |`np.bitwise_not`   | Negação (ex. `~1 = 0`)                  |\n",
        "|`==`         |`np.equal`         | Igualdade (ex. `1 = 1`)                 |\n",
        "|`!=`         |`np.not_equal`     | Desigualdade (ex. `1 != 0`)             |\n",
        "|`<`          |`np.less`          | Menor que (ex. `0 < 1`)                 |\n",
        "|`<=`         |`np.less_equal`    | Menor ou igual (ex. `1 <= 1`)           |\n",
        "|`>`          |`np.greater`       | Maior que (ex. `1 > 0`)                 |\n",
        "|`>=`         |`np.greater_equal` | Maior ou igual (ex. `1 >= 1`)           |"
      ]
    },
    {
      "cell_type": "code",
      "execution_count": null,
      "metadata": {
        "id": "D3NuxIjZ2l7I",
        "outputId": "d3217661-6581-4e9b-db23-cfb3cffef5af"
      },
      "outputs": [
        {
          "data": {
            "text/plain": [
              "array([ True,  True,  True,  True,  True, False, False, False, False])"
            ]
          },
          "execution_count": 51,
          "metadata": {},
          "output_type": "execute_result"
        }
      ],
      "source": [
        "x = np.arange(1,10)\n",
        "x <= 5"
      ]
    },
    {
      "cell_type": "markdown",
      "metadata": {
        "id": "9FelUmbA2l7I"
      },
      "source": [
        "#### Operações com arrays booleanos"
      ]
    },
    {
      "cell_type": "code",
      "execution_count": null,
      "metadata": {
        "id": "PVbmqNAi2l7I",
        "outputId": "4fdba7ca-d48b-46d1-87e2-a93ba1502268"
      },
      "outputs": [
        {
          "data": {
            "text/plain": [
              "7"
            ]
          },
          "execution_count": 52,
          "metadata": {},
          "output_type": "execute_result"
        }
      ],
      "source": [
        "x = np.arange(1,10)\n",
        "np.count_nonzero(x < 8)"
      ]
    },
    {
      "cell_type": "code",
      "execution_count": null,
      "metadata": {
        "id": "uwV_E6kr2l7I",
        "outputId": "607eb3af-aea1-4b2b-ceea-88775c0c1d12"
      },
      "outputs": [
        {
          "data": {
            "text/plain": [
              "7"
            ]
          },
          "execution_count": 53,
          "metadata": {},
          "output_type": "execute_result"
        }
      ],
      "source": [
        "np.sum(x < 8)"
      ]
    },
    {
      "cell_type": "code",
      "execution_count": null,
      "metadata": {
        "id": "FpWtixyB2l7I",
        "outputId": "1846b143-6fa2-41ea-a325-4f7a9c3123ad"
      },
      "outputs": [
        {
          "data": {
            "text/plain": [
              "False"
            ]
          },
          "execution_count": 54,
          "metadata": {},
          "output_type": "execute_result"
        }
      ],
      "source": [
        "np.any(x < 0)"
      ]
    },
    {
      "cell_type": "code",
      "execution_count": null,
      "metadata": {
        "id": "yfVrQPQ-2l7J",
        "outputId": "2f06bf6d-b1fa-4d07-c93f-19f894010688"
      },
      "outputs": [
        {
          "data": {
            "text/plain": [
              "True"
            ]
          },
          "execution_count": 55,
          "metadata": {},
          "output_type": "execute_result"
        }
      ],
      "source": [
        "np.all(x < 10)"
      ]
    },
    {
      "cell_type": "markdown",
      "metadata": {
        "id": "_ycZGNGm2l7J"
      },
      "source": [
        "#### Arrays como máscara"
      ]
    },
    {
      "cell_type": "code",
      "execution_count": null,
      "metadata": {
        "id": "2bh9Jd0k2l7J",
        "outputId": "6d2b3c4e-e883-44cd-c58d-ae1d5bb04c72"
      },
      "outputs": [
        {
          "name": "stdout",
          "output_type": "stream",
          "text": [
            "CPU times: user 214 ms, sys: 3.06 s, total: 3.28 s\n",
            "Wall time: 3.48 s\n"
          ]
        },
        {
          "data": {
            "text/plain": [
              "array([       1,        2,        3, ..., 99999997, 99999998, 99999999])"
            ]
          },
          "execution_count": 56,
          "metadata": {},
          "output_type": "execute_result"
        }
      ],
      "source": [
        "import numpy as np\n",
        "%time x = np.arange(1,100000000)\n",
        "x"
      ]
    },
    {
      "cell_type": "code",
      "execution_count": null,
      "metadata": {
        "id": "cyhYyhaX2l7J",
        "outputId": "3e6f0022-0718-4098-80d1-0e0911095f6d"
      },
      "outputs": [
        {
          "name": "stdout",
          "output_type": "stream",
          "text": [
            "CPU times: user 2.38 s, sys: 10.2 s, total: 12.6 s\n",
            "Wall time: 53.3 s\n",
            "CPU times: user 2.01 s, sys: 2.2 s, total: 4.21 s\n",
            "Wall time: 5.27 s\n"
          ]
        },
        {
          "data": {
            "text/plain": [
              "array([       5,       10,       15, ..., 99999985, 99999990, 99999995])"
            ]
          },
          "execution_count": 57,
          "metadata": {},
          "output_type": "execute_result"
        }
      ],
      "source": [
        "%time x % 5 == 0\n",
        "%time x[x % 5 == 0]"
      ]
    },
    {
      "cell_type": "code",
      "execution_count": null,
      "metadata": {
        "id": "DvBcrpDK2l7J",
        "outputId": "a6ee5cdb-ff72-4d8c-c458-aca5bcb44843"
      },
      "outputs": [
        {
          "name": "stdout",
          "output_type": "stream",
          "text": [
            "[       5       10       15 ... 99999985 99999990 99999995]\n",
            "CPU times: user 1.7 s, sys: 1.25 s, total: 2.95 s\n",
            "Wall time: 3.04 s\n"
          ]
        }
      ],
      "source": [
        "%time print(x[x % 5 == 0])"
      ]
    },
    {
      "cell_type": "code",
      "execution_count": null,
      "metadata": {
        "id": "ye-UP-PZ2l7J",
        "outputId": "842e4402-0a35-44d8-801e-f2b006009ab0"
      },
      "outputs": [
        {
          "ename": "ValueError",
          "evalue": "cannot reshape array of size 99999999 into shape (3,3)",
          "output_type": "error",
          "traceback": [
            "\u001b[0;31m---------------------------------------------------------------------------\u001b[0m",
            "\u001b[0;31mValueError\u001b[0m                                Traceback (most recent call last)",
            "\u001b[0;32m/tmp/ipykernel_361074/1259096509.py\u001b[0m in \u001b[0;36m<module>\u001b[0;34m\u001b[0m\n\u001b[0;32m----> 1\u001b[0;31m \u001b[0my\u001b[0m \u001b[0;34m=\u001b[0m \u001b[0mx\u001b[0m\u001b[0;34m.\u001b[0m\u001b[0mreshape\u001b[0m\u001b[0;34m(\u001b[0m\u001b[0;34m(\u001b[0m\u001b[0;36m3\u001b[0m\u001b[0;34m,\u001b[0m\u001b[0;36m3\u001b[0m\u001b[0;34m)\u001b[0m\u001b[0;34m)\u001b[0m\u001b[0;34m\u001b[0m\u001b[0;34m\u001b[0m\u001b[0m\n\u001b[0m\u001b[1;32m      2\u001b[0m \u001b[0my\u001b[0m \u001b[0;34m<\u001b[0m \u001b[0;36m5\u001b[0m\u001b[0;34m\u001b[0m\u001b[0;34m\u001b[0m\u001b[0m\n",
            "\u001b[0;31mValueError\u001b[0m: cannot reshape array of size 99999999 into shape (3,3)"
          ]
        }
      ],
      "source": [
        "y = x.reshape((3,3))\n",
        "y < 5"
      ]
    },
    {
      "cell_type": "markdown",
      "metadata": {
        "id": "LyyDEoJT2l7J"
      },
      "source": [
        "## Pandas"
      ]
    },
    {
      "cell_type": "markdown",
      "metadata": {
        "id": "LxhUlimX2l7J"
      },
      "source": [
        "**Pandas** é uma ferramenta de análise e manipulação de dados de código aberta, rápida, poderosa, flexível e fácil de usar, construída sobre a linguagem de programação Python e a biblioteca NumPy."
      ]
    },
    {
      "cell_type": "code",
      "execution_count": null,
      "metadata": {
        "id": "JeTGBT7a2l7J"
      },
      "outputs": [],
      "source": [
        "import numpy as np\n",
        "import pandas as pd"
      ]
    },
    {
      "cell_type": "markdown",
      "metadata": {
        "id": "M-OctK7s2l7J"
      },
      "source": [
        "### `Series`"
      ]
    },
    {
      "cell_type": "markdown",
      "metadata": {
        "id": "mphlrTxC2l7J"
      },
      "source": [
        "`Series` do Pandas é um array unidimensional de dados indexados."
      ]
    },
    {
      "cell_type": "code",
      "execution_count": null,
      "metadata": {
        "id": "9VKtDcwu2l7J",
        "outputId": "997247c9-75a3-4e21-cb57-6fb783eaca73"
      },
      "outputs": [
        {
          "data": {
            "text/plain": [
              "0    0.25\n",
              "1    0.50\n",
              "2    0.75\n",
              "3    1.00\n",
              "dtype: float64"
            ]
          },
          "execution_count": 6,
          "metadata": {},
          "output_type": "execute_result"
        }
      ],
      "source": [
        "data = pd.Series([0.25, 0.5, 0.75, 1.0])\n",
        "data"
      ]
    },
    {
      "cell_type": "markdown",
      "metadata": {
        "id": "2et0oTiV2l7J"
      },
      "source": [
        "`Series` combina uma sequência de valores com uma sequência explícita de índices, que podem ser acessados por meio dos atributos `values` e `index`.\n"
      ]
    },
    {
      "cell_type": "code",
      "execution_count": null,
      "metadata": {
        "id": "9iyPmsHM2l7J",
        "outputId": "020a54f1-ed55-4147-c328-172e6165f6dd"
      },
      "outputs": [
        {
          "data": {
            "text/plain": [
              "array([0.25, 0.5 , 0.75, 1.  ])"
            ]
          },
          "execution_count": 62,
          "metadata": {},
          "output_type": "execute_result"
        }
      ],
      "source": [
        "data.values"
      ]
    },
    {
      "cell_type": "markdown",
      "metadata": {
        "id": "-K8cnpJ_2l7J"
      },
      "source": [
        "O atributo `values` é um simples array NumPy."
      ]
    },
    {
      "cell_type": "code",
      "execution_count": null,
      "metadata": {
        "id": "cl85gm-52l7J",
        "outputId": "45b50a57-ed6f-4018-f6b6-cf585cdd17c1"
      },
      "outputs": [
        {
          "data": {
            "text/plain": [
              "numpy.ndarray"
            ]
          },
          "execution_count": 63,
          "metadata": {},
          "output_type": "execute_result"
        }
      ],
      "source": [
        "type(data.values)"
      ]
    },
    {
      "cell_type": "markdown",
      "metadata": {
        "id": "-594H9Ay2l7K"
      },
      "source": [
        "O atributo `index` é um objeto Pandas semelhante ao `numpy.array`, porém específico para lidar indexação."
      ]
    },
    {
      "cell_type": "code",
      "execution_count": null,
      "metadata": {
        "id": "tL8NPmX52l7K",
        "outputId": "085bd8d4-6e35-472a-8746-80d471fd70dd"
      },
      "outputs": [
        {
          "data": {
            "text/plain": [
              "RangeIndex(start=0, stop=4, step=1)"
            ]
          },
          "execution_count": 64,
          "metadata": {},
          "output_type": "execute_result"
        }
      ],
      "source": [
        "data.index"
      ]
    },
    {
      "cell_type": "markdown",
      "metadata": {
        "id": "OCpgQwsd2l7K"
      },
      "source": [
        "Um objeto `Series` pode ser indexado e repartido como um array."
      ]
    },
    {
      "cell_type": "code",
      "execution_count": null,
      "metadata": {
        "id": "n3l50zEx2l7K",
        "outputId": "a0d9e706-00b7-4bc4-9f40-00a76ba67fa1"
      },
      "outputs": [
        {
          "data": {
            "text/plain": [
              "1    0.50\n",
              "2    0.75\n",
              "dtype: float64"
            ]
          },
          "execution_count": 65,
          "metadata": {},
          "output_type": "execute_result"
        }
      ],
      "source": [
        "data[1:3]"
      ]
    },
    {
      "cell_type": "markdown",
      "metadata": {
        "id": "E2rCF0h72l7K"
      },
      "source": [
        "`Series` pode ser visto como uma generalização de um `numpy.array`, no sentido que em vez de ter uma indexação numérica *implícita* para acessar seus valores, o objeto `Series` tem uma indexação *explícita* podendo ser inclusive de valores não-numéricos."
      ]
    },
    {
      "cell_type": "code",
      "execution_count": null,
      "metadata": {
        "id": "Jmmas4vS2l7K",
        "outputId": "6c17a387-c707-4507-f791-f6e3e10868c7"
      },
      "outputs": [
        {
          "data": {
            "text/plain": [
              "a    0.25\n",
              "b    0.50\n",
              "c    0.75\n",
              "d    1.00\n",
              "dtype: float64"
            ]
          },
          "execution_count": 16,
          "metadata": {},
          "output_type": "execute_result"
        }
      ],
      "source": [
        "data = pd.Series([0.25, 0.5, 0.75, 1.0],index=['a', 'b', 'c', 'd'])\n",
        "data"
      ]
    },
    {
      "cell_type": "markdown",
      "metadata": {
        "id": "AsYhYTkV2l7K"
      },
      "source": [
        "Podemos como antes acessar o valor ou fazer recortes usando seus índices, mesmo que não-numéricos."
      ]
    },
    {
      "cell_type": "code",
      "execution_count": null,
      "metadata": {
        "id": "O8lzr6C32l7K",
        "outputId": "32b9e1f4-4f4d-4078-8df6-96baec30aa08"
      },
      "outputs": [
        {
          "data": {
            "text/plain": [
              "b    0.50\n",
              "c    0.75\n",
              "d    1.00\n",
              "dtype: float64"
            ]
          },
          "execution_count": 22,
          "metadata": {},
          "output_type": "execute_result"
        }
      ],
      "source": [
        "data['b':'d'] # intervalo inclusivo"
      ]
    },
    {
      "cell_type": "markdown",
      "metadata": {
        "id": "rVOtPnDl2l7K"
      },
      "source": [
        "`Series` pode também ser visto como um `dict`, no sentido que é uma estrutura que mapeia chaves tipificadas para dados também tipificados. Essa tipificação é importante do mesmo modo que é para o ganho de eficiência no NumPy."
      ]
    },
    {
      "cell_type": "markdown",
      "metadata": {
        "id": "vdoep7QR2l7K"
      },
      "source": [
        "Podemos construir um objeto `Series` diretamente de um dicionário Python."
      ]
    },
    {
      "cell_type": "code",
      "execution_count": null,
      "metadata": {
        "id": "URDE1MFx2l7K",
        "outputId": "6f704cdd-12ff-45fc-abc4-08d08d309e85"
      },
      "outputs": [
        {
          "data": {
            "text/plain": [
              "Brasil       209000000\n",
              "Argentina    100000000\n",
              "Uruguai        3500000\n",
              "Paraguai       7000000\n",
              "dtype: int64"
            ]
          },
          "execution_count": 52,
          "metadata": {},
          "output_type": "execute_result"
        }
      ],
      "source": [
        "populacao_dict = {'Brasil':209000000, 'Argentina':100000000, 'Uruguai':3500000, 'Paraguai':7000000}\n",
        "populacao = pd.Series(populacao_dict)\n",
        "populacao"
      ]
    },
    {
      "cell_type": "code",
      "execution_count": null,
      "metadata": {
        "id": "_zWwFAsK2l7K",
        "outputId": "8f359937-0952-4d0e-a6bc-7dbdecfe458b"
      },
      "outputs": [
        {
          "data": {
            "text/plain": [
              "209000000"
            ]
          },
          "execution_count": 53,
          "metadata": {},
          "output_type": "execute_result"
        }
      ],
      "source": [
        "populacao['Brasil']"
      ]
    },
    {
      "cell_type": "code",
      "execution_count": null,
      "metadata": {
        "id": "gdOvbHP62l7K",
        "outputId": "76380532-26dc-488e-ec6f-f199be6534e3"
      },
      "outputs": [
        {
          "data": {
            "text/plain": [
              "Brasil       209000000\n",
              "Argentina    100000000\n",
              "Uruguai        3500000\n",
              "Paraguai       7000000\n",
              "dtype: int64"
            ]
          },
          "execution_count": 54,
          "metadata": {},
          "output_type": "execute_result"
        }
      ],
      "source": [
        "populacao"
      ]
    },
    {
      "cell_type": "markdown",
      "metadata": {
        "id": "Ijw3zalZ2l7K"
      },
      "source": [
        "O campo índice pode ser usados para definir a ordem que os dados serão listados no objeto `Series`."
      ]
    },
    {
      "cell_type": "code",
      "execution_count": null,
      "metadata": {
        "id": "pfl4GsK-2l7K",
        "outputId": "f788593e-771f-44b7-a246-7bd2b7523a1c"
      },
      "outputs": [
        {
          "data": {
            "text/plain": [
              "Argentina     47327407\n",
              "Brasil       203062512\n",
              "Paraguai       6780744\n",
              "Uruguai        3351016\n",
              "dtype: int64"
            ]
          },
          "execution_count": 83,
          "metadata": {},
          "output_type": "execute_result"
        }
      ],
      "source": [
        "populacao_dict = {'Brasil':203062512, 'Argentina':47327407, 'Uruguai':3351016, 'Paraguai':6780744 }\n",
        "populacao = pd.Series(populacao_dict, index=['Argentina', 'Brasil', 'Paraguai', 'Uruguai'])\n",
        "populacao"
      ]
    },
    {
      "cell_type": "markdown",
      "metadata": {
        "id": "Oq4mXRuv2l7L"
      },
      "source": [
        "### `DataFrame`"
      ]
    },
    {
      "cell_type": "markdown",
      "metadata": {
        "id": "9O3w2TKq2l7L"
      },
      "source": [
        "`DataFrame` é um tipo de array bidimensional com índices explícitos para linhas e colunas. Podemos pensar o `DataFrame` como uma sequência de `Series` alinhadas, no sentido que tais seŕies compartilham os mesmo índices."
      ]
    },
    {
      "cell_type": "code",
      "execution_count": null,
      "metadata": {
        "id": "eeJukGwE2l7L",
        "outputId": "99ed3848-8b1d-482f-eb2a-ba988500f7d8"
      },
      "outputs": [
        {
          "data": {
            "text/plain": [
              "Brasil       8510417\n",
              "Argentina    2780400\n",
              "Uruguai       176215\n",
              "Paraguai      406752\n",
              "dtype: int64"
            ]
          },
          "execution_count": 85,
          "metadata": {},
          "output_type": "execute_result"
        }
      ],
      "source": [
        "area_dict = {'Brasil':8510417, 'Argentina':2780400, 'Uruguai':176215, 'Paraguai':406752}\n",
        "area = pd.Series(area_dict)\n",
        "area"
      ]
    },
    {
      "cell_type": "code",
      "execution_count": null,
      "metadata": {
        "id": "ipCnBRF92l7L",
        "outputId": "cf27e5ea-ee6d-49d7-991d-2eb4bdd691ba"
      },
      "outputs": [
        {
          "data": {
            "text/plain": [
              "Argentina     47327407\n",
              "Brasil       203062512\n",
              "Paraguai       6780744\n",
              "Uruguai        3351016\n",
              "dtype: int64"
            ]
          },
          "execution_count": 86,
          "metadata": {},
          "output_type": "execute_result"
        }
      ],
      "source": [
        "populacao"
      ]
    },
    {
      "cell_type": "code",
      "execution_count": null,
      "metadata": {
        "id": "odBMCJix2l7L",
        "outputId": "8360b5ba-231e-40f8-e004-46b45ebbf9b9"
      },
      "outputs": [
        {
          "data": {
            "text/html": [
              "<div>\n",
              "<style scoped>\n",
              "    .dataframe tbody tr th:only-of-type {\n",
              "        vertical-align: middle;\n",
              "    }\n",
              "\n",
              "    .dataframe tbody tr th {\n",
              "        vertical-align: top;\n",
              "    }\n",
              "\n",
              "    .dataframe thead th {\n",
              "        text-align: right;\n",
              "    }\n",
              "</style>\n",
              "<table border=\"1\" class=\"dataframe\">\n",
              "  <thead>\n",
              "    <tr style=\"text-align: right;\">\n",
              "      <th></th>\n",
              "      <th>populacao</th>\n",
              "      <th>area</th>\n",
              "    </tr>\n",
              "  </thead>\n",
              "  <tbody>\n",
              "    <tr>\n",
              "      <th>Argentina</th>\n",
              "      <td>47327407</td>\n",
              "      <td>2780400</td>\n",
              "    </tr>\n",
              "    <tr>\n",
              "      <th>Brasil</th>\n",
              "      <td>203062512</td>\n",
              "      <td>8510417</td>\n",
              "    </tr>\n",
              "    <tr>\n",
              "      <th>Paraguai</th>\n",
              "      <td>6780744</td>\n",
              "      <td>406752</td>\n",
              "    </tr>\n",
              "    <tr>\n",
              "      <th>Uruguai</th>\n",
              "      <td>3351016</td>\n",
              "      <td>176215</td>\n",
              "    </tr>\n",
              "  </tbody>\n",
              "</table>\n",
              "</div>"
            ],
            "text/plain": [
              "           populacao     area\n",
              "Argentina   47327407  2780400\n",
              "Brasil     203062512  8510417\n",
              "Paraguai     6780744   406752\n",
              "Uruguai      3351016   176215"
            ]
          },
          "execution_count": 106,
          "metadata": {},
          "output_type": "execute_result"
        }
      ],
      "source": [
        "\n",
        "\n",
        "\n",
        "\n",
        "\n",
        "\n",
        "mercosul = pd.DataFrame({'populacao': populacao, 'area': area})\n",
        "mercosul\n"
      ]
    },
    {
      "cell_type": "markdown",
      "metadata": {
        "id": "WIPZ3Ra_2l7L"
      },
      "source": [
        "Assim como em `Series`, podemo acessar no `DataFrame` os índices compartilhados por meio do atributo `index`."
      ]
    },
    {
      "cell_type": "code",
      "execution_count": null,
      "metadata": {
        "id": "07SYnCFf2l7L",
        "outputId": "a1cf9230-e817-4b13-ff32-e186cac5dc72"
      },
      "outputs": [
        {
          "data": {
            "text/plain": [
              "Index(['Argentina', 'Brasil', 'Paraguai', 'Uruguai'], dtype='object')"
            ]
          },
          "execution_count": 92,
          "metadata": {},
          "output_type": "execute_result"
        }
      ],
      "source": [
        "mercosul.index"
      ]
    },
    {
      "cell_type": "markdown",
      "metadata": {
        "id": "6KesdkDv2l7L"
      },
      "source": [
        "O `DataFrame` tem um atributo `columns` que contém um objeto índices composto pelos rótulos das colunas."
      ]
    },
    {
      "cell_type": "code",
      "execution_count": null,
      "metadata": {
        "id": "BLGTYnce2l7L",
        "outputId": "bc742652-936f-4287-89b5-08db0c2526be"
      },
      "outputs": [
        {
          "data": {
            "text/plain": [
              "Index(['populacao', 'area'], dtype='object')"
            ]
          },
          "execution_count": 93,
          "metadata": {},
          "output_type": "execute_result"
        }
      ],
      "source": [
        "mercosul.columns"
      ]
    },
    {
      "cell_type": "markdown",
      "metadata": {
        "id": "w3c8eqCI2l7L"
      },
      "source": [
        "`DataFrame` pode também ser visto com um dicionário, que mapeia um nome de coluna para um objeto `Series`."
      ]
    },
    {
      "cell_type": "code",
      "execution_count": null,
      "metadata": {
        "id": "fjL-3Jbx2l7L",
        "outputId": "3b3aa4b2-6d5a-4129-edd4-5ac09b5e57dd"
      },
      "outputs": [
        {
          "data": {
            "text/plain": [
              "Argentina     47327407\n",
              "Brasil       203062512\n",
              "Paraguai       6780744\n",
              "Uruguai        3351016\n",
              "Name: populacao, dtype: int64"
            ]
          },
          "execution_count": 111,
          "metadata": {},
          "output_type": "execute_result"
        }
      ],
      "source": [
        "mercosul['populacao']"
      ]
    },
    {
      "cell_type": "markdown",
      "metadata": {
        "id": "QeOIif2N2l7L"
      },
      "source": [
        "Quando o nome da coluna obdecer as regras de nomeação do Python, ela pode ser acessada como um atributo do `DataFrame`."
      ]
    },
    {
      "cell_type": "code",
      "execution_count": null,
      "metadata": {
        "id": "qgZrPCg82l7L",
        "outputId": "9fb74e74-a841-494e-c754-96bb7b30b5d2"
      },
      "outputs": [
        {
          "data": {
            "text/plain": [
              "Argentina     47327407\n",
              "Brasil       203062512\n",
              "Paraguai       6780744\n",
              "Uruguai        3351016\n",
              "Name: populacao, dtype: int64"
            ]
          },
          "execution_count": 112,
          "metadata": {},
          "output_type": "execute_result"
        }
      ],
      "source": [
        "mercosul.populacao"
      ]
    },
    {
      "cell_type": "markdown",
      "metadata": {
        "id": "DnrBtqlD2l7L"
      },
      "source": [
        "Observe que em uma matriz NumPy bidimensional, `data[0]` retornará a primeira *linha*. Para um `DataFrame`, `data['col0']` retornará a primeira *coluna*."
      ]
    },
    {
      "cell_type": "code",
      "execution_count": null,
      "metadata": {
        "id": "vhEXxuHk2l7L",
        "outputId": "c7e2c339-2d16-4c64-a893-bd5d6191f916"
      },
      "outputs": [
        {
          "data": {
            "text/plain": [
              "array([[1, 2],\n",
              "       [3, 4]])"
            ]
          },
          "execution_count": 113,
          "metadata": {},
          "output_type": "execute_result"
        }
      ],
      "source": [
        "data = np.array([[1,2],[3,4]])\n",
        "data"
      ]
    },
    {
      "cell_type": "code",
      "execution_count": null,
      "metadata": {
        "id": "Ef2qmOlz2l7L",
        "outputId": "2daebfb4-f5fa-434c-8c83-ec6c2d66d01b"
      },
      "outputs": [
        {
          "data": {
            "text/plain": [
              "array([1, 2])"
            ]
          },
          "execution_count": 80,
          "metadata": {},
          "output_type": "execute_result"
        }
      ],
      "source": [
        "data[0]"
      ]
    },
    {
      "cell_type": "code",
      "execution_count": null,
      "metadata": {
        "id": "jBXOSTe22l7L",
        "outputId": "e4503040-aaf0-498b-efd2-31303bef0da3"
      },
      "outputs": [
        {
          "data": {
            "text/html": [
              "<div>\n",
              "<style scoped>\n",
              "    .dataframe tbody tr th:only-of-type {\n",
              "        vertical-align: middle;\n",
              "    }\n",
              "\n",
              "    .dataframe tbody tr th {\n",
              "        vertical-align: top;\n",
              "    }\n",
              "\n",
              "    .dataframe thead th {\n",
              "        text-align: right;\n",
              "    }\n",
              "</style>\n",
              "<table border=\"1\" class=\"dataframe\">\n",
              "  <thead>\n",
              "    <tr style=\"text-align: right;\">\n",
              "      <th></th>\n",
              "      <th>0</th>\n",
              "      <th>1</th>\n",
              "    </tr>\n",
              "  </thead>\n",
              "  <tbody>\n",
              "    <tr>\n",
              "      <th>0</th>\n",
              "      <td>1</td>\n",
              "      <td>2</td>\n",
              "    </tr>\n",
              "    <tr>\n",
              "      <th>1</th>\n",
              "      <td>3</td>\n",
              "      <td>4</td>\n",
              "    </tr>\n",
              "  </tbody>\n",
              "</table>\n",
              "</div>"
            ],
            "text/plain": [
              "   0  1\n",
              "0  1  2\n",
              "1  3  4"
            ]
          },
          "execution_count": 117,
          "metadata": {},
          "output_type": "execute_result"
        }
      ],
      "source": [
        "data = pd.DataFrame([[1,2],[3,4]])\n",
        "data\n",
        "\n",
        "\n",
        "\n",
        "\n",
        "\n"
      ]
    },
    {
      "cell_type": "code",
      "execution_count": null,
      "metadata": {
        "id": "q76xfxn_2l7M",
        "outputId": "0ecc8dcb-fce9-45ef-eb4c-36f8cee4665c"
      },
      "outputs": [
        {
          "data": {
            "text/plain": [
              "0    1\n",
              "1    3\n",
              "Name: 0, dtype: int64"
            ]
          },
          "execution_count": 82,
          "metadata": {},
          "output_type": "execute_result"
        }
      ],
      "source": [
        "data[0]"
      ]
    },
    {
      "cell_type": "code",
      "execution_count": null,
      "metadata": {
        "id": "6VVG_xm_2l7M",
        "outputId": "89a71d18-10a4-4f30-d3a4-f0bde8c656d1"
      },
      "outputs": [
        {
          "data": {
            "text/html": [
              "<div>\n",
              "<style scoped>\n",
              "    .dataframe tbody tr th:only-of-type {\n",
              "        vertical-align: middle;\n",
              "    }\n",
              "\n",
              "    .dataframe tbody tr th {\n",
              "        vertical-align: top;\n",
              "    }\n",
              "\n",
              "    .dataframe thead th {\n",
              "        text-align: right;\n",
              "    }\n",
              "</style>\n",
              "<table border=\"1\" class=\"dataframe\">\n",
              "  <thead>\n",
              "    <tr style=\"text-align: right;\">\n",
              "      <th></th>\n",
              "      <th>populacao</th>\n",
              "      <th>area</th>\n",
              "    </tr>\n",
              "  </thead>\n",
              "  <tbody>\n",
              "    <tr>\n",
              "      <th>Argentina</th>\n",
              "      <td>47327407</td>\n",
              "      <td>2780400</td>\n",
              "    </tr>\n",
              "    <tr>\n",
              "      <th>Brasil</th>\n",
              "      <td>203062512</td>\n",
              "      <td>8510417</td>\n",
              "    </tr>\n",
              "  </tbody>\n",
              "</table>\n",
              "</div>"
            ],
            "text/plain": [
              "           populacao     area\n",
              "Argentina   47327407  2780400\n",
              "Brasil     203062512  8510417"
            ]
          },
          "execution_count": 147,
          "metadata": {},
          "output_type": "execute_result"
        }
      ],
      "source": [
        "mercosul['Argentina':'Brasil']"
      ]
    },
    {
      "cell_type": "code",
      "execution_count": null,
      "metadata": {
        "id": "n0MqGwGw2l7M",
        "outputId": "acbbba73-4060-4f50-e743-d5617dce5fa0"
      },
      "outputs": [
        {
          "data": {
            "text/html": [
              "<div>\n",
              "<style scoped>\n",
              "    .dataframe tbody tr th:only-of-type {\n",
              "        vertical-align: middle;\n",
              "    }\n",
              "\n",
              "    .dataframe tbody tr th {\n",
              "        vertical-align: top;\n",
              "    }\n",
              "\n",
              "    .dataframe thead th {\n",
              "        text-align: right;\n",
              "    }\n",
              "</style>\n",
              "<table border=\"1\" class=\"dataframe\">\n",
              "  <thead>\n",
              "    <tr style=\"text-align: right;\">\n",
              "      <th></th>\n",
              "      <th>populacao</th>\n",
              "      <th>area</th>\n",
              "      <th>densidade</th>\n",
              "    </tr>\n",
              "  </thead>\n",
              "  <tbody>\n",
              "    <tr>\n",
              "      <th>Argentina</th>\n",
              "      <td>47327407</td>\n",
              "      <td>2780400</td>\n",
              "      <td>17.021798</td>\n",
              "    </tr>\n",
              "    <tr>\n",
              "      <th>Brasil</th>\n",
              "      <td>203062512</td>\n",
              "      <td>8510417</td>\n",
              "      <td>23.860466</td>\n",
              "    </tr>\n",
              "  </tbody>\n",
              "</table>\n",
              "</div>"
            ],
            "text/plain": [
              "           populacao     area  densidade\n",
              "Argentina   47327407  2780400  17.021798\n",
              "Brasil     203062512  8510417  23.860466"
            ]
          },
          "execution_count": 116,
          "metadata": {},
          "output_type": "execute_result"
        }
      ],
      "source": [
        "mercosul[0:2]"
      ]
    },
    {
      "cell_type": "code",
      "execution_count": null,
      "metadata": {
        "id": "tUYhkKow2l7M",
        "outputId": "7ca28f20-b94d-43c9-c88b-e76590c9b78f"
      },
      "outputs": [
        {
          "data": {
            "text/html": [
              "<div>\n",
              "<style scoped>\n",
              "    .dataframe tbody tr th:only-of-type {\n",
              "        vertical-align: middle;\n",
              "    }\n",
              "\n",
              "    .dataframe tbody tr th {\n",
              "        vertical-align: top;\n",
              "    }\n",
              "\n",
              "    .dataframe thead th {\n",
              "        text-align: right;\n",
              "    }\n",
              "</style>\n",
              "<table border=\"1\" class=\"dataframe\">\n",
              "  <thead>\n",
              "    <tr style=\"text-align: right;\">\n",
              "      <th></th>\n",
              "      <th>populacao</th>\n",
              "      <th>area</th>\n",
              "    </tr>\n",
              "  </thead>\n",
              "  <tbody>\n",
              "    <tr>\n",
              "      <th>Argentina</th>\n",
              "      <td>47327407</td>\n",
              "      <td>2780400</td>\n",
              "    </tr>\n",
              "    <tr>\n",
              "      <th>Brasil</th>\n",
              "      <td>203062512</td>\n",
              "      <td>8510417</td>\n",
              "    </tr>\n",
              "  </tbody>\n",
              "</table>\n",
              "</div>"
            ],
            "text/plain": [
              "           populacao     area\n",
              "Argentina   47327407  2780400\n",
              "Brasil     203062512  8510417"
            ]
          },
          "execution_count": 105,
          "metadata": {},
          "output_type": "execute_result"
        }
      ],
      "source": [
        "mercosul.loc[:'Brasil', :'area']"
      ]
    },
    {
      "cell_type": "code",
      "execution_count": null,
      "metadata": {
        "id": "130Hatao2l7M",
        "outputId": "ad024755-e85d-4359-d4c2-bac636c954bd"
      },
      "outputs": [
        {
          "data": {
            "text/html": [
              "<div>\n",
              "<style scoped>\n",
              "    .dataframe tbody tr th:only-of-type {\n",
              "        vertical-align: middle;\n",
              "    }\n",
              "\n",
              "    .dataframe tbody tr th {\n",
              "        vertical-align: top;\n",
              "    }\n",
              "\n",
              "    .dataframe thead th {\n",
              "        text-align: right;\n",
              "    }\n",
              "</style>\n",
              "<table border=\"1\" class=\"dataframe\">\n",
              "  <thead>\n",
              "    <tr style=\"text-align: right;\">\n",
              "      <th></th>\n",
              "      <th>populacao</th>\n",
              "      <th>area</th>\n",
              "    </tr>\n",
              "  </thead>\n",
              "  <tbody>\n",
              "    <tr>\n",
              "      <th>Argentina</th>\n",
              "      <td>47327407</td>\n",
              "      <td>2780400</td>\n",
              "    </tr>\n",
              "    <tr>\n",
              "      <th>Brasil</th>\n",
              "      <td>203062512</td>\n",
              "      <td>8510417</td>\n",
              "    </tr>\n",
              "  </tbody>\n",
              "</table>\n",
              "</div>"
            ],
            "text/plain": [
              "           populacao     area\n",
              "Argentina   47327407  2780400\n",
              "Brasil     203062512  8510417"
            ]
          },
          "execution_count": 148,
          "metadata": {},
          "output_type": "execute_result"
        }
      ],
      "source": [
        "mercosul.iloc[:2,:2]"
      ]
    },
    {
      "cell_type": "code",
      "execution_count": null,
      "metadata": {
        "id": "dTQCkHKJ2l7M",
        "outputId": "4a2fd08d-a94b-41dd-9b3f-6bf80358b588"
      },
      "outputs": [
        {
          "data": {
            "text/plain": [
              "Argentina    False\n",
              "Brasil       False\n",
              "Paraguai      True\n",
              "Uruguai       True\n",
              "Name: populacao, dtype: bool"
            ]
          },
          "execution_count": 151,
          "metadata": {},
          "output_type": "execute_result"
        }
      ],
      "source": [
        "mercosul['populacao'] < 10000000"
      ]
    },
    {
      "cell_type": "code",
      "execution_count": null,
      "metadata": {
        "id": "BwkJsh4C2l7M",
        "outputId": "c214a84a-0ec4-41fe-9eb0-78e94414a5b6"
      },
      "outputs": [
        {
          "data": {
            "text/html": [
              "<div>\n",
              "<style scoped>\n",
              "    .dataframe tbody tr th:only-of-type {\n",
              "        vertical-align: middle;\n",
              "    }\n",
              "\n",
              "    .dataframe tbody tr th {\n",
              "        vertical-align: top;\n",
              "    }\n",
              "\n",
              "    .dataframe thead th {\n",
              "        text-align: right;\n",
              "    }\n",
              "</style>\n",
              "<table border=\"1\" class=\"dataframe\">\n",
              "  <thead>\n",
              "    <tr style=\"text-align: right;\">\n",
              "      <th></th>\n",
              "      <th>populacao</th>\n",
              "      <th>area</th>\n",
              "      <th>densidade</th>\n",
              "    </tr>\n",
              "  </thead>\n",
              "  <tbody>\n",
              "    <tr>\n",
              "      <th>Paraguai</th>\n",
              "      <td>6780744</td>\n",
              "      <td>406752</td>\n",
              "      <td>16.670463</td>\n",
              "    </tr>\n",
              "    <tr>\n",
              "      <th>Uruguai</th>\n",
              "      <td>3351016</td>\n",
              "      <td>176215</td>\n",
              "      <td>19.016633</td>\n",
              "    </tr>\n",
              "  </tbody>\n",
              "</table>\n",
              "</div>"
            ],
            "text/plain": [
              "          populacao    area  densidade\n",
              "Paraguai    6780744  406752  16.670463\n",
              "Uruguai     3351016  176215  19.016633"
            ]
          },
          "execution_count": 112,
          "metadata": {},
          "output_type": "execute_result"
        }
      ],
      "source": [
        "mercosul[mercosul['populacao'] < 10000000]"
      ]
    },
    {
      "cell_type": "markdown",
      "metadata": {
        "id": "dB0rEXpC2l7M"
      },
      "source": [
        "Pandas traz ainda uma conjunto de funções e operações sobre `DataFrame`."
      ]
    },
    {
      "cell_type": "code",
      "execution_count": null,
      "metadata": {
        "id": "Qs_6zcvF2l7M",
        "outputId": "104274ff-9e79-408a-88de-57e1687e9322"
      },
      "outputs": [
        {
          "data": {
            "text/html": [
              "<div>\n",
              "<style scoped>\n",
              "    .dataframe tbody tr th:only-of-type {\n",
              "        vertical-align: middle;\n",
              "    }\n",
              "\n",
              "    .dataframe tbody tr th {\n",
              "        vertical-align: top;\n",
              "    }\n",
              "\n",
              "    .dataframe thead th {\n",
              "        text-align: right;\n",
              "    }\n",
              "</style>\n",
              "<table border=\"1\" class=\"dataframe\">\n",
              "  <thead>\n",
              "    <tr style=\"text-align: right;\">\n",
              "      <th></th>\n",
              "      <th>populacao</th>\n",
              "      <th>area</th>\n",
              "      <th>densidade</th>\n",
              "    </tr>\n",
              "  </thead>\n",
              "  <tbody>\n",
              "    <tr>\n",
              "      <th>Argentina</th>\n",
              "      <td>47327407</td>\n",
              "      <td>2780400</td>\n",
              "      <td>17.021798</td>\n",
              "    </tr>\n",
              "    <tr>\n",
              "      <th>Brasil</th>\n",
              "      <td>203062512</td>\n",
              "      <td>8510417</td>\n",
              "      <td>23.860466</td>\n",
              "    </tr>\n",
              "    <tr>\n",
              "      <th>Paraguai</th>\n",
              "      <td>6780744</td>\n",
              "      <td>406752</td>\n",
              "      <td>16.670463</td>\n",
              "    </tr>\n",
              "    <tr>\n",
              "      <th>Uruguai</th>\n",
              "      <td>3351016</td>\n",
              "      <td>176215</td>\n",
              "      <td>19.016633</td>\n",
              "    </tr>\n",
              "  </tbody>\n",
              "</table>\n",
              "</div>"
            ],
            "text/plain": [
              "           populacao     area  densidade\n",
              "Argentina   47327407  2780400  17.021798\n",
              "Brasil     203062512  8510417  23.860466\n",
              "Paraguai     6780744   406752  16.670463\n",
              "Uruguai      3351016   176215  19.016633"
            ]
          },
          "execution_count": 169,
          "metadata": {},
          "output_type": "execute_result"
        }
      ],
      "source": [
        "mercosul = pd.DataFrame({'populacao': populacao, 'area': area})\n",
        "mercosul['densidade'] = mercosul['populacao'] / mercosul['area']\n",
        "mercosul\n",
        "\n",
        "\n",
        "\n",
        "\n",
        "\n"
      ]
    },
    {
      "cell_type": "code",
      "execution_count": null,
      "metadata": {
        "id": "YppQP2En2l7M",
        "outputId": "699992a2-0f45-458d-c551-947fdb773f8c"
      },
      "outputs": [
        {
          "data": {
            "text/html": [
              "<div>\n",
              "<style scoped>\n",
              "    .dataframe tbody tr th:only-of-type {\n",
              "        vertical-align: middle;\n",
              "    }\n",
              "\n",
              "    .dataframe tbody tr th {\n",
              "        vertical-align: top;\n",
              "    }\n",
              "\n",
              "    .dataframe thead th {\n",
              "        text-align: right;\n",
              "    }\n",
              "</style>\n",
              "<table border=\"1\" class=\"dataframe\">\n",
              "  <thead>\n",
              "    <tr style=\"text-align: right;\">\n",
              "      <th></th>\n",
              "      <th>Argentina</th>\n",
              "      <th>Brasil</th>\n",
              "      <th>Paraguai</th>\n",
              "      <th>Uruguai</th>\n",
              "    </tr>\n",
              "  </thead>\n",
              "  <tbody>\n",
              "    <tr>\n",
              "      <th>populacao</th>\n",
              "      <td>4.732741e+07</td>\n",
              "      <td>2.030625e+08</td>\n",
              "      <td>6.780744e+06</td>\n",
              "      <td>3.351016e+06</td>\n",
              "    </tr>\n",
              "    <tr>\n",
              "      <th>area</th>\n",
              "      <td>2.780400e+06</td>\n",
              "      <td>8.510417e+06</td>\n",
              "      <td>4.067520e+05</td>\n",
              "      <td>1.762150e+05</td>\n",
              "    </tr>\n",
              "    <tr>\n",
              "      <th>densidade</th>\n",
              "      <td>1.702180e+01</td>\n",
              "      <td>2.386047e+01</td>\n",
              "      <td>1.667046e+01</td>\n",
              "      <td>1.901663e+01</td>\n",
              "    </tr>\n",
              "  </tbody>\n",
              "</table>\n",
              "</div>"
            ],
            "text/plain": [
              "              Argentina        Brasil      Paraguai       Uruguai\n",
              "populacao  4.732741e+07  2.030625e+08  6.780744e+06  3.351016e+06\n",
              "area       2.780400e+06  8.510417e+06  4.067520e+05  1.762150e+05\n",
              "densidade  1.702180e+01  2.386047e+01  1.667046e+01  1.901663e+01"
            ]
          },
          "execution_count": 178,
          "metadata": {},
          "output_type": "execute_result"
        }
      ],
      "source": [
        "mercosul.T"
      ]
    },
    {
      "cell_type": "code",
      "execution_count": null,
      "metadata": {
        "id": "odyTCj_S2l7M",
        "outputId": "9398be01-507b-49dc-8b56-d89c48373ff0"
      },
      "outputs": [
        {
          "name": "stdout",
          "output_type": "stream",
          "text": [
            "<class 'pandas.core.frame.DataFrame'>\n",
            "Index: 4 entries, Argentina to Uruguai\n",
            "Data columns (total 3 columns):\n",
            " #   Column     Non-Null Count  Dtype  \n",
            "---  ------     --------------  -----  \n",
            " 0   populacao  4 non-null      int64  \n",
            " 1   area       4 non-null      int64  \n",
            " 2   densidade  4 non-null      float64\n",
            "dtypes: float64(1), int64(2)\n",
            "memory usage: 300.0+ bytes\n"
          ]
        }
      ],
      "source": [
        "mercosul.info()"
      ]
    },
    {
      "cell_type": "code",
      "execution_count": null,
      "metadata": {
        "id": "Rdx5848A2l7M",
        "outputId": "f4fbd6a9-cddc-4580-8e49-9af2f9fc3abf"
      },
      "outputs": [
        {
          "data": {
            "text/html": [
              "<div>\n",
              "<style scoped>\n",
              "    .dataframe tbody tr th:only-of-type {\n",
              "        vertical-align: middle;\n",
              "    }\n",
              "\n",
              "    .dataframe tbody tr th {\n",
              "        vertical-align: top;\n",
              "    }\n",
              "\n",
              "    .dataframe thead th {\n",
              "        text-align: right;\n",
              "    }\n",
              "</style>\n",
              "<table border=\"1\" class=\"dataframe\">\n",
              "  <thead>\n",
              "    <tr style=\"text-align: right;\">\n",
              "      <th></th>\n",
              "      <th>populacao</th>\n",
              "      <th>area</th>\n",
              "      <th>densidade</th>\n",
              "    </tr>\n",
              "  </thead>\n",
              "  <tbody>\n",
              "    <tr>\n",
              "      <th>count</th>\n",
              "      <td>4.000000e+00</td>\n",
              "      <td>4.000000e+00</td>\n",
              "      <td>4.000000</td>\n",
              "    </tr>\n",
              "    <tr>\n",
              "      <th>mean</th>\n",
              "      <td>6.513042e+07</td>\n",
              "      <td>2.968446e+06</td>\n",
              "      <td>19.142340</td>\n",
              "    </tr>\n",
              "    <tr>\n",
              "      <th>std</th>\n",
              "      <td>9.409851e+07</td>\n",
              "      <td>3.877612e+06</td>\n",
              "      <td>3.310760</td>\n",
              "    </tr>\n",
              "    <tr>\n",
              "      <th>min</th>\n",
              "      <td>3.351016e+06</td>\n",
              "      <td>1.762150e+05</td>\n",
              "      <td>16.670463</td>\n",
              "    </tr>\n",
              "    <tr>\n",
              "      <th>25%</th>\n",
              "      <td>5.923312e+06</td>\n",
              "      <td>3.491178e+05</td>\n",
              "      <td>16.933964</td>\n",
              "    </tr>\n",
              "    <tr>\n",
              "      <th>50%</th>\n",
              "      <td>2.705408e+07</td>\n",
              "      <td>1.593576e+06</td>\n",
              "      <td>18.019216</td>\n",
              "    </tr>\n",
              "    <tr>\n",
              "      <th>75%</th>\n",
              "      <td>8.626118e+07</td>\n",
              "      <td>4.212904e+06</td>\n",
              "      <td>20.227591</td>\n",
              "    </tr>\n",
              "    <tr>\n",
              "      <th>max</th>\n",
              "      <td>2.030625e+08</td>\n",
              "      <td>8.510417e+06</td>\n",
              "      <td>23.860466</td>\n",
              "    </tr>\n",
              "  </tbody>\n",
              "</table>\n",
              "</div>"
            ],
            "text/plain": [
              "          populacao          area  densidade\n",
              "count  4.000000e+00  4.000000e+00   4.000000\n",
              "mean   6.513042e+07  2.968446e+06  19.142340\n",
              "std    9.409851e+07  3.877612e+06   3.310760\n",
              "min    3.351016e+06  1.762150e+05  16.670463\n",
              "25%    5.923312e+06  3.491178e+05  16.933964\n",
              "50%    2.705408e+07  1.593576e+06  18.019216\n",
              "75%    8.626118e+07  4.212904e+06  20.227591\n",
              "max    2.030625e+08  8.510417e+06  23.860466"
            ]
          },
          "execution_count": 180,
          "metadata": {},
          "output_type": "execute_result"
        }
      ],
      "source": [
        "mercosul.describe()"
      ]
    },
    {
      "cell_type": "markdown",
      "metadata": {
        "id": "JcacChBV2l7M"
      },
      "source": [
        "Operações com `DataFrame` precisam de um cuidado especial com o alinhamento de índices."
      ]
    },
    {
      "cell_type": "code",
      "execution_count": null,
      "metadata": {
        "id": "3XFGKDGa2l7M",
        "outputId": "77ac302c-11c4-4a09-fb15-cafe2b0a1fa9"
      },
      "outputs": [
        {
          "data": {
            "text/html": [
              "<div>\n",
              "<style scoped>\n",
              "    .dataframe tbody tr th:only-of-type {\n",
              "        vertical-align: middle;\n",
              "    }\n",
              "\n",
              "    .dataframe tbody tr th {\n",
              "        vertical-align: top;\n",
              "    }\n",
              "\n",
              "    .dataframe thead th {\n",
              "        text-align: right;\n",
              "    }\n",
              "</style>\n",
              "<table border=\"1\" class=\"dataframe\">\n",
              "  <thead>\n",
              "    <tr style=\"text-align: right;\">\n",
              "      <th></th>\n",
              "      <th>A</th>\n",
              "      <th>B</th>\n",
              "    </tr>\n",
              "  </thead>\n",
              "  <tbody>\n",
              "    <tr>\n",
              "      <th>0</th>\n",
              "      <td>5</td>\n",
              "      <td>5</td>\n",
              "    </tr>\n",
              "    <tr>\n",
              "      <th>1</th>\n",
              "      <td>5</td>\n",
              "      <td>5</td>\n",
              "    </tr>\n",
              "  </tbody>\n",
              "</table>\n",
              "</div>"
            ],
            "text/plain": [
              "   A  B\n",
              "0  5  5\n",
              "1  5  5"
            ]
          },
          "execution_count": 172,
          "metadata": {},
          "output_type": "execute_result"
        }
      ],
      "source": [
        "A = pd.DataFrame([[1,2],[3,4]],columns=['A','B'])\n",
        "B = pd.DataFrame([[4,3],[2,1]],columns=['A','B'])\n",
        "A+B\n"
      ]
    },
    {
      "cell_type": "code",
      "execution_count": null,
      "metadata": {
        "id": "8STcmj6I2l7M",
        "outputId": "8b8f4528-6f76-4ab0-868b-3bfc93f676f1"
      },
      "outputs": [
        {
          "data": {
            "text/html": [
              "<div>\n",
              "<style scoped>\n",
              "    .dataframe tbody tr th:only-of-type {\n",
              "        vertical-align: middle;\n",
              "    }\n",
              "\n",
              "    .dataframe tbody tr th {\n",
              "        vertical-align: top;\n",
              "    }\n",
              "\n",
              "    .dataframe thead th {\n",
              "        text-align: right;\n",
              "    }\n",
              "</style>\n",
              "<table border=\"1\" class=\"dataframe\">\n",
              "  <thead>\n",
              "    <tr style=\"text-align: right;\">\n",
              "      <th></th>\n",
              "      <th>A</th>\n",
              "      <th>B</th>\n",
              "      <th>C</th>\n",
              "    </tr>\n",
              "  </thead>\n",
              "  <tbody>\n",
              "    <tr>\n",
              "      <th>0</th>\n",
              "      <td>5</td>\n",
              "      <td>NaN</td>\n",
              "      <td>NaN</td>\n",
              "    </tr>\n",
              "    <tr>\n",
              "      <th>1</th>\n",
              "      <td>5</td>\n",
              "      <td>NaN</td>\n",
              "      <td>NaN</td>\n",
              "    </tr>\n",
              "  </tbody>\n",
              "</table>\n",
              "</div>"
            ],
            "text/plain": [
              "   A   B   C\n",
              "0  5 NaN NaN\n",
              "1  5 NaN NaN"
            ]
          },
          "execution_count": 173,
          "metadata": {},
          "output_type": "execute_result"
        }
      ],
      "source": [
        "A = pd.DataFrame([[1,2],[3,4]],columns=['A','B'])\n",
        "C = pd.DataFrame([[4,3],[2,1]],columns=['A','C'])\n",
        "A+C"
      ]
    },
    {
      "cell_type": "code",
      "execution_count": null,
      "metadata": {
        "id": "IlaFdkvv2l7M",
        "outputId": "ab810324-e07c-42c4-dac1-9c093e46bd1a"
      },
      "outputs": [
        {
          "data": {
            "text/html": [
              "<div>\n",
              "<style scoped>\n",
              "    .dataframe tbody tr th:only-of-type {\n",
              "        vertical-align: middle;\n",
              "    }\n",
              "\n",
              "    .dataframe tbody tr th {\n",
              "        vertical-align: top;\n",
              "    }\n",
              "\n",
              "    .dataframe thead th {\n",
              "        text-align: right;\n",
              "    }\n",
              "</style>\n",
              "<table border=\"1\" class=\"dataframe\">\n",
              "  <thead>\n",
              "    <tr style=\"text-align: right;\">\n",
              "      <th></th>\n",
              "      <th>A</th>\n",
              "      <th>B</th>\n",
              "      <th>C</th>\n",
              "    </tr>\n",
              "  </thead>\n",
              "  <tbody>\n",
              "    <tr>\n",
              "      <th>0</th>\n",
              "      <td>5</td>\n",
              "      <td>2.0</td>\n",
              "      <td>3.0</td>\n",
              "    </tr>\n",
              "    <tr>\n",
              "      <th>1</th>\n",
              "      <td>5</td>\n",
              "      <td>4.0</td>\n",
              "      <td>1.0</td>\n",
              "    </tr>\n",
              "  </tbody>\n",
              "</table>\n",
              "</div>"
            ],
            "text/plain": [
              "   A    B    C\n",
              "0  5  2.0  3.0\n",
              "1  5  4.0  1.0"
            ]
          },
          "execution_count": 129,
          "metadata": {},
          "output_type": "execute_result"
        }
      ],
      "source": [
        "A.add(C, fill_value=0)"
      ]
    },
    {
      "cell_type": "code",
      "execution_count": null,
      "metadata": {
        "id": "nC6oNu162l7M",
        "outputId": "22b64fde-f9b5-4a8b-ba7e-cef7348b3e83"
      },
      "outputs": [
        {
          "data": {
            "text/html": [
              "<div>\n",
              "<style scoped>\n",
              "    .dataframe tbody tr th:only-of-type {\n",
              "        vertical-align: middle;\n",
              "    }\n",
              "\n",
              "    .dataframe tbody tr th {\n",
              "        vertical-align: top;\n",
              "    }\n",
              "\n",
              "    .dataframe thead th {\n",
              "        text-align: right;\n",
              "    }\n",
              "</style>\n",
              "<table border=\"1\" class=\"dataframe\">\n",
              "  <thead>\n",
              "    <tr style=\"text-align: right;\">\n",
              "      <th></th>\n",
              "      <th>A</th>\n",
              "      <th>B</th>\n",
              "    </tr>\n",
              "  </thead>\n",
              "  <tbody>\n",
              "    <tr>\n",
              "      <th>0</th>\n",
              "      <td>5.0</td>\n",
              "      <td>5.0</td>\n",
              "    </tr>\n",
              "    <tr>\n",
              "      <th>1</th>\n",
              "      <td>5.0</td>\n",
              "      <td>5.0</td>\n",
              "    </tr>\n",
              "    <tr>\n",
              "      <th>2</th>\n",
              "      <td>NaN</td>\n",
              "      <td>NaN</td>\n",
              "    </tr>\n",
              "  </tbody>\n",
              "</table>\n",
              "</div>"
            ],
            "text/plain": [
              "     A    B\n",
              "0  5.0  5.0\n",
              "1  5.0  5.0\n",
              "2  NaN  NaN"
            ]
          },
          "execution_count": 130,
          "metadata": {},
          "output_type": "execute_result"
        }
      ],
      "source": [
        "A = pd.DataFrame([[1,2],[3,4]],columns=['A','B'])\n",
        "C = pd.DataFrame([[4,3],[2,1],[0,0]],columns=['A','B'])\n",
        "A+C"
      ]
    },
    {
      "cell_type": "code",
      "execution_count": null,
      "metadata": {
        "id": "Ez957Sht2l7N",
        "outputId": "33a47ffe-3ebd-4269-c4f3-71f6e078157d"
      },
      "outputs": [
        {
          "data": {
            "text/html": [
              "<div>\n",
              "<style scoped>\n",
              "    .dataframe tbody tr th:only-of-type {\n",
              "        vertical-align: middle;\n",
              "    }\n",
              "\n",
              "    .dataframe tbody tr th {\n",
              "        vertical-align: top;\n",
              "    }\n",
              "\n",
              "    .dataframe thead th {\n",
              "        text-align: right;\n",
              "    }\n",
              "</style>\n",
              "<table border=\"1\" class=\"dataframe\">\n",
              "  <thead>\n",
              "    <tr style=\"text-align: right;\">\n",
              "      <th></th>\n",
              "      <th>A</th>\n",
              "      <th>B</th>\n",
              "    </tr>\n",
              "  </thead>\n",
              "  <tbody>\n",
              "    <tr>\n",
              "      <th>0</th>\n",
              "      <td>5.0</td>\n",
              "      <td>5.0</td>\n",
              "    </tr>\n",
              "    <tr>\n",
              "      <th>1</th>\n",
              "      <td>5.0</td>\n",
              "      <td>5.0</td>\n",
              "    </tr>\n",
              "    <tr>\n",
              "      <th>2</th>\n",
              "      <td>0.0</td>\n",
              "      <td>0.0</td>\n",
              "    </tr>\n",
              "  </tbody>\n",
              "</table>\n",
              "</div>"
            ],
            "text/plain": [
              "     A    B\n",
              "0  5.0  5.0\n",
              "1  5.0  5.0\n",
              "2  0.0  0.0"
            ]
          },
          "execution_count": 131,
          "metadata": {},
          "output_type": "execute_result"
        }
      ],
      "source": [
        "A.add(C, fill_value=0)"
      ]
    },
    {
      "cell_type": "code",
      "execution_count": null,
      "metadata": {
        "id": "p9CsNnsD2l7N",
        "outputId": "7e03ad21-e6fa-4885-905f-eb2c0ca801ed"
      },
      "outputs": [
        {
          "data": {
            "text/html": [
              "<div>\n",
              "<style scoped>\n",
              "    .dataframe tbody tr th:only-of-type {\n",
              "        vertical-align: middle;\n",
              "    }\n",
              "\n",
              "    .dataframe tbody tr th {\n",
              "        vertical-align: top;\n",
              "    }\n",
              "\n",
              "    .dataframe thead th {\n",
              "        text-align: right;\n",
              "    }\n",
              "</style>\n",
              "<table border=\"1\" class=\"dataframe\">\n",
              "  <thead>\n",
              "    <tr style=\"text-align: right;\">\n",
              "      <th></th>\n",
              "      <th>A</th>\n",
              "      <th>B</th>\n",
              "    </tr>\n",
              "  </thead>\n",
              "  <tbody>\n",
              "    <tr>\n",
              "      <th>0</th>\n",
              "      <td>1</td>\n",
              "      <td>2</td>\n",
              "    </tr>\n",
              "    <tr>\n",
              "      <th>1</th>\n",
              "      <td>3</td>\n",
              "      <td>4</td>\n",
              "    </tr>\n",
              "    <tr>\n",
              "      <th>0</th>\n",
              "      <td>4</td>\n",
              "      <td>3</td>\n",
              "    </tr>\n",
              "    <tr>\n",
              "      <th>1</th>\n",
              "      <td>2</td>\n",
              "      <td>1</td>\n",
              "    </tr>\n",
              "  </tbody>\n",
              "</table>\n",
              "</div>"
            ],
            "text/plain": [
              "   A  B\n",
              "0  1  2\n",
              "1  3  4\n",
              "0  4  3\n",
              "1  2  1"
            ]
          },
          "execution_count": 137,
          "metadata": {},
          "output_type": "execute_result"
        }
      ],
      "source": [
        "pd.concat([A,B])"
      ]
    },
    {
      "cell_type": "code",
      "execution_count": null,
      "metadata": {
        "id": "mHPZErf-2l7N",
        "outputId": "b2a6d45c-b835-48bd-9de8-71a557706d93"
      },
      "outputs": [
        {
          "data": {
            "text/html": [
              "<div>\n",
              "<style scoped>\n",
              "    .dataframe tbody tr th:only-of-type {\n",
              "        vertical-align: middle;\n",
              "    }\n",
              "\n",
              "    .dataframe tbody tr th {\n",
              "        vertical-align: top;\n",
              "    }\n",
              "\n",
              "    .dataframe thead th {\n",
              "        text-align: right;\n",
              "    }\n",
              "</style>\n",
              "<table border=\"1\" class=\"dataframe\">\n",
              "  <thead>\n",
              "    <tr style=\"text-align: right;\">\n",
              "      <th></th>\n",
              "      <th>A</th>\n",
              "      <th>B</th>\n",
              "    </tr>\n",
              "  </thead>\n",
              "  <tbody>\n",
              "    <tr>\n",
              "      <th>0</th>\n",
              "      <td>1</td>\n",
              "      <td>2</td>\n",
              "    </tr>\n",
              "    <tr>\n",
              "      <th>1</th>\n",
              "      <td>3</td>\n",
              "      <td>4</td>\n",
              "    </tr>\n",
              "    <tr>\n",
              "      <th>2</th>\n",
              "      <td>4</td>\n",
              "      <td>3</td>\n",
              "    </tr>\n",
              "    <tr>\n",
              "      <th>3</th>\n",
              "      <td>2</td>\n",
              "      <td>1</td>\n",
              "    </tr>\n",
              "  </tbody>\n",
              "</table>\n",
              "</div>"
            ],
            "text/plain": [
              "   A  B\n",
              "0  1  2\n",
              "1  3  4\n",
              "2  4  3\n",
              "3  2  1"
            ]
          },
          "execution_count": 174,
          "metadata": {},
          "output_type": "execute_result"
        }
      ],
      "source": [
        "\n",
        "\n",
        "\n",
        "\n",
        "pd.concat([A,B],ignore_index=True)\n",
        "\n",
        "\n"
      ]
    },
    {
      "cell_type": "code",
      "execution_count": null,
      "metadata": {
        "id": "OYeuOH4_2l7N",
        "outputId": "06fcdc5b-8813-49f8-900c-91f91cb9b46e"
      },
      "outputs": [
        {
          "data": {
            "text/html": [
              "<div>\n",
              "<style scoped>\n",
              "    .dataframe tbody tr th:only-of-type {\n",
              "        vertical-align: middle;\n",
              "    }\n",
              "\n",
              "    .dataframe tbody tr th {\n",
              "        vertical-align: top;\n",
              "    }\n",
              "\n",
              "    .dataframe thead th {\n",
              "        text-align: right;\n",
              "    }\n",
              "</style>\n",
              "<table border=\"1\" class=\"dataframe\">\n",
              "  <thead>\n",
              "    <tr style=\"text-align: right;\">\n",
              "      <th></th>\n",
              "      <th>A</th>\n",
              "      <th>B</th>\n",
              "      <th>A</th>\n",
              "      <th>B</th>\n",
              "    </tr>\n",
              "  </thead>\n",
              "  <tbody>\n",
              "    <tr>\n",
              "      <th>0</th>\n",
              "      <td>1</td>\n",
              "      <td>2</td>\n",
              "      <td>4</td>\n",
              "      <td>3</td>\n",
              "    </tr>\n",
              "    <tr>\n",
              "      <th>1</th>\n",
              "      <td>3</td>\n",
              "      <td>4</td>\n",
              "      <td>2</td>\n",
              "      <td>1</td>\n",
              "    </tr>\n",
              "  </tbody>\n",
              "</table>\n",
              "</div>"
            ],
            "text/plain": [
              "   A  B  A  B\n",
              "0  1  2  4  3\n",
              "1  3  4  2  1"
            ]
          },
          "execution_count": 176,
          "metadata": {},
          "output_type": "execute_result"
        }
      ],
      "source": [
        "\n",
        "\n",
        "\n",
        "\n",
        "pd.concat([A,B],axis=1)"
      ]
    },
    {
      "cell_type": "code",
      "execution_count": null,
      "metadata": {
        "id": "K9_qLQ1Y2l7N",
        "outputId": "dc82adda-08ce-4692-a7c2-39bcf543bf62"
      },
      "outputs": [
        {
          "data": {
            "text/html": [
              "<div>\n",
              "<style scoped>\n",
              "    .dataframe tbody tr th:only-of-type {\n",
              "        vertical-align: middle;\n",
              "    }\n",
              "\n",
              "    .dataframe tbody tr th {\n",
              "        vertical-align: top;\n",
              "    }\n",
              "\n",
              "    .dataframe thead th {\n",
              "        text-align: right;\n",
              "    }\n",
              "</style>\n",
              "<table border=\"1\" class=\"dataframe\">\n",
              "  <thead>\n",
              "    <tr style=\"text-align: right;\">\n",
              "      <th></th>\n",
              "      <th>A</th>\n",
              "      <th>B</th>\n",
              "      <th>C</th>\n",
              "    </tr>\n",
              "  </thead>\n",
              "  <tbody>\n",
              "    <tr>\n",
              "      <th>0</th>\n",
              "      <td>A1</td>\n",
              "      <td>B1</td>\n",
              "      <td>C1</td>\n",
              "    </tr>\n",
              "    <tr>\n",
              "      <th>1</th>\n",
              "      <td>A2</td>\n",
              "      <td>B2</td>\n",
              "      <td>C2</td>\n",
              "    </tr>\n",
              "    <tr>\n",
              "      <th>2</th>\n",
              "      <td>A3</td>\n",
              "      <td>B3</td>\n",
              "      <td>C3</td>\n",
              "    </tr>\n",
              "  </tbody>\n",
              "</table>\n",
              "</div>"
            ],
            "text/plain": [
              "    A   B   C\n",
              "0  A1  B1  C1\n",
              "1  A2  B2  C2\n",
              "2  A3  B3  C3"
            ]
          },
          "metadata": {},
          "output_type": "display_data"
        },
        {
          "data": {
            "text/html": [
              "<div>\n",
              "<style scoped>\n",
              "    .dataframe tbody tr th:only-of-type {\n",
              "        vertical-align: middle;\n",
              "    }\n",
              "\n",
              "    .dataframe tbody tr th {\n",
              "        vertical-align: top;\n",
              "    }\n",
              "\n",
              "    .dataframe thead th {\n",
              "        text-align: right;\n",
              "    }\n",
              "</style>\n",
              "<table border=\"1\" class=\"dataframe\">\n",
              "  <thead>\n",
              "    <tr style=\"text-align: right;\">\n",
              "      <th></th>\n",
              "      <th>B</th>\n",
              "      <th>C</th>\n",
              "      <th>D</th>\n",
              "    </tr>\n",
              "  </thead>\n",
              "  <tbody>\n",
              "    <tr>\n",
              "      <th>0</th>\n",
              "      <td>B1</td>\n",
              "      <td>C1</td>\n",
              "      <td>D1</td>\n",
              "    </tr>\n",
              "    <tr>\n",
              "      <th>1</th>\n",
              "      <td>B2</td>\n",
              "      <td>C2</td>\n",
              "      <td>D2</td>\n",
              "    </tr>\n",
              "    <tr>\n",
              "      <th>2</th>\n",
              "      <td>B3</td>\n",
              "      <td>C3</td>\n",
              "      <td>D3</td>\n",
              "    </tr>\n",
              "  </tbody>\n",
              "</table>\n",
              "</div>"
            ],
            "text/plain": [
              "    B   C   D\n",
              "0  B1  C1  D1\n",
              "1  B2  C2  D2\n",
              "2  B3  C3  D3"
            ]
          },
          "metadata": {},
          "output_type": "display_data"
        },
        {
          "data": {
            "text/html": [
              "<div>\n",
              "<style scoped>\n",
              "    .dataframe tbody tr th:only-of-type {\n",
              "        vertical-align: middle;\n",
              "    }\n",
              "\n",
              "    .dataframe tbody tr th {\n",
              "        vertical-align: top;\n",
              "    }\n",
              "\n",
              "    .dataframe thead th {\n",
              "        text-align: right;\n",
              "    }\n",
              "</style>\n",
              "<table border=\"1\" class=\"dataframe\">\n",
              "  <thead>\n",
              "    <tr style=\"text-align: right;\">\n",
              "      <th></th>\n",
              "      <th>A</th>\n",
              "      <th>B</th>\n",
              "      <th>C</th>\n",
              "      <th>D</th>\n",
              "    </tr>\n",
              "  </thead>\n",
              "  <tbody>\n",
              "    <tr>\n",
              "      <th>0</th>\n",
              "      <td>A1</td>\n",
              "      <td>B1</td>\n",
              "      <td>C1</td>\n",
              "      <td>NaN</td>\n",
              "    </tr>\n",
              "    <tr>\n",
              "      <th>1</th>\n",
              "      <td>A2</td>\n",
              "      <td>B2</td>\n",
              "      <td>C2</td>\n",
              "      <td>NaN</td>\n",
              "    </tr>\n",
              "    <tr>\n",
              "      <th>2</th>\n",
              "      <td>A3</td>\n",
              "      <td>B3</td>\n",
              "      <td>C3</td>\n",
              "      <td>NaN</td>\n",
              "    </tr>\n",
              "    <tr>\n",
              "      <th>0</th>\n",
              "      <td>NaN</td>\n",
              "      <td>B1</td>\n",
              "      <td>C1</td>\n",
              "      <td>D1</td>\n",
              "    </tr>\n",
              "    <tr>\n",
              "      <th>1</th>\n",
              "      <td>NaN</td>\n",
              "      <td>B2</td>\n",
              "      <td>C2</td>\n",
              "      <td>D2</td>\n",
              "    </tr>\n",
              "    <tr>\n",
              "      <th>2</th>\n",
              "      <td>NaN</td>\n",
              "      <td>B3</td>\n",
              "      <td>C3</td>\n",
              "      <td>D3</td>\n",
              "    </tr>\n",
              "  </tbody>\n",
              "</table>\n",
              "</div>"
            ],
            "text/plain": [
              "     A   B   C    D\n",
              "0   A1  B1  C1  NaN\n",
              "1   A2  B2  C2  NaN\n",
              "2   A3  B3  C3  NaN\n",
              "0  NaN  B1  C1   D1\n",
              "1  NaN  B2  C2   D2\n",
              "2  NaN  B3  C3   D3"
            ]
          },
          "execution_count": 212,
          "metadata": {},
          "output_type": "execute_result"
        }
      ],
      "source": [
        "A = pd.DataFrame({x:[x+y for y in \"123\"] for x in 'ABC'})\n",
        "B = pd.DataFrame({x:[x+y for y in \"123\"] for x in 'BCD'})\n",
        "display(A)\n",
        "display(B)\n",
        "pd.concat([A,B])"
      ]
    },
    {
      "cell_type": "code",
      "execution_count": null,
      "metadata": {
        "id": "6xxho2yb2l7N",
        "outputId": "7ecc9c11-87e4-4f13-8f09-32176de4f7d2"
      },
      "outputs": [
        {
          "data": {
            "text/html": [
              "<div>\n",
              "<style scoped>\n",
              "    .dataframe tbody tr th:only-of-type {\n",
              "        vertical-align: middle;\n",
              "    }\n",
              "\n",
              "    .dataframe tbody tr th {\n",
              "        vertical-align: top;\n",
              "    }\n",
              "\n",
              "    .dataframe thead th {\n",
              "        text-align: right;\n",
              "    }\n",
              "</style>\n",
              "<table border=\"1\" class=\"dataframe\">\n",
              "  <thead>\n",
              "    <tr style=\"text-align: right;\">\n",
              "      <th></th>\n",
              "      <th>A</th>\n",
              "      <th>B</th>\n",
              "      <th>C</th>\n",
              "    </tr>\n",
              "  </thead>\n",
              "  <tbody>\n",
              "    <tr>\n",
              "      <th>0</th>\n",
              "      <td>A1</td>\n",
              "      <td>B1</td>\n",
              "      <td>C1</td>\n",
              "    </tr>\n",
              "    <tr>\n",
              "      <th>1</th>\n",
              "      <td>A2</td>\n",
              "      <td>B2</td>\n",
              "      <td>C2</td>\n",
              "    </tr>\n",
              "    <tr>\n",
              "      <th>2</th>\n",
              "      <td>A3</td>\n",
              "      <td>B3</td>\n",
              "      <td>C3</td>\n",
              "    </tr>\n",
              "  </tbody>\n",
              "</table>\n",
              "</div>"
            ],
            "text/plain": [
              "    A   B   C\n",
              "0  A1  B1  C1\n",
              "1  A2  B2  C2\n",
              "2  A3  B3  C3"
            ]
          },
          "metadata": {},
          "output_type": "display_data"
        },
        {
          "data": {
            "text/html": [
              "<div>\n",
              "<style scoped>\n",
              "    .dataframe tbody tr th:only-of-type {\n",
              "        vertical-align: middle;\n",
              "    }\n",
              "\n",
              "    .dataframe tbody tr th {\n",
              "        vertical-align: top;\n",
              "    }\n",
              "\n",
              "    .dataframe thead th {\n",
              "        text-align: right;\n",
              "    }\n",
              "</style>\n",
              "<table border=\"1\" class=\"dataframe\">\n",
              "  <thead>\n",
              "    <tr style=\"text-align: right;\">\n",
              "      <th></th>\n",
              "      <th>B</th>\n",
              "      <th>C</th>\n",
              "      <th>D</th>\n",
              "    </tr>\n",
              "  </thead>\n",
              "  <tbody>\n",
              "    <tr>\n",
              "      <th>0</th>\n",
              "      <td>B2</td>\n",
              "      <td>C2</td>\n",
              "      <td>D2</td>\n",
              "    </tr>\n",
              "    <tr>\n",
              "      <th>1</th>\n",
              "      <td>B3</td>\n",
              "      <td>C3</td>\n",
              "      <td>D3</td>\n",
              "    </tr>\n",
              "    <tr>\n",
              "      <th>2</th>\n",
              "      <td>B4</td>\n",
              "      <td>C4</td>\n",
              "      <td>D4</td>\n",
              "    </tr>\n",
              "  </tbody>\n",
              "</table>\n",
              "</div>"
            ],
            "text/plain": [
              "    B   C   D\n",
              "0  B2  C2  D2\n",
              "1  B3  C3  D3\n",
              "2  B4  C4  D4"
            ]
          },
          "metadata": {},
          "output_type": "display_data"
        },
        {
          "data": {
            "text/html": [
              "<div>\n",
              "<style scoped>\n",
              "    .dataframe tbody tr th:only-of-type {\n",
              "        vertical-align: middle;\n",
              "    }\n",
              "\n",
              "    .dataframe tbody tr th {\n",
              "        vertical-align: top;\n",
              "    }\n",
              "\n",
              "    .dataframe thead th {\n",
              "        text-align: right;\n",
              "    }\n",
              "</style>\n",
              "<table border=\"1\" class=\"dataframe\">\n",
              "  <thead>\n",
              "    <tr style=\"text-align: right;\">\n",
              "      <th></th>\n",
              "      <th>A</th>\n",
              "      <th>B</th>\n",
              "      <th>C</th>\n",
              "      <th>D</th>\n",
              "    </tr>\n",
              "  </thead>\n",
              "  <tbody>\n",
              "    <tr>\n",
              "      <th>0</th>\n",
              "      <td>A1</td>\n",
              "      <td>B1</td>\n",
              "      <td>C1</td>\n",
              "      <td>NaN</td>\n",
              "    </tr>\n",
              "    <tr>\n",
              "      <th>1</th>\n",
              "      <td>A2</td>\n",
              "      <td>B2</td>\n",
              "      <td>C2</td>\n",
              "      <td>D2</td>\n",
              "    </tr>\n",
              "    <tr>\n",
              "      <th>2</th>\n",
              "      <td>A3</td>\n",
              "      <td>B3</td>\n",
              "      <td>C3</td>\n",
              "      <td>D3</td>\n",
              "    </tr>\n",
              "  </tbody>\n",
              "</table>\n",
              "</div>"
            ],
            "text/plain": [
              "    A   B   C    D\n",
              "0  A1  B1  C1  NaN\n",
              "1  A2  B2  C2   D2\n",
              "2  A3  B3  C3   D3"
            ]
          },
          "metadata": {},
          "output_type": "display_data"
        }
      ],
      "source": [
        "A = pd.DataFrame({x:[x+y for y in \"123\"] for x in 'ABC'})\n",
        "B = pd.DataFrame({x:[x+y for y in \"234\"] for x in 'BCD'})\n",
        "display(A)\n",
        "display(B)\n",
        "display(pd.merge(A,B,how='left'))"
      ]
    }
  ],
  "metadata": {
    "celltoolbar": "Slideshow",
    "kernelspec": {
      "display_name": "Python 3 (ipykernel)",
      "language": "python",
      "name": "python3"
    },
    "language_info": {
      "codemirror_mode": {
        "name": "ipython",
        "version": 3
      },
      "file_extension": ".py",
      "mimetype": "text/x-python",
      "name": "python",
      "nbconvert_exporter": "python",
      "pygments_lexer": "ipython3",
      "version": "3.10.12"
    },
    "colab": {
      "provenance": []
    }
  },
  "nbformat": 4,
  "nbformat_minor": 0
}