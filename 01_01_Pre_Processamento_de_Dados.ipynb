{
  "cells": [
    {
      "cell_type": "markdown",
      "metadata": {
        "id": "5-BLYAWUUCeG"
      },
      "source": [
        "<a target=\"_blank\" href=\"https://colab.research.google.com/github/paulotguerra/QXD0178/blob/main/01.01-Pre-Processamento-de-Dados.ipynb\">\n",
        "  <img src=\"https://colab.research.google.com/assets/colab-badge.svg\" alt=\"Open In Colab\"/>\n",
        "</a>"
      ]
    },
    {
      "cell_type": "markdown",
      "metadata": {
        "id": "SvmjJBdGUCeH"
      },
      "source": [
        "## QXD0178 - Mineração de Dados\n",
        "# Pré-processamento de Dados"
      ]
    },
    {
      "cell_type": "markdown",
      "metadata": {
        "id": "URXss_gMUCeH"
      },
      "source": [
        "**Professor:** Marcos Antonio de Oliveira ([marcos.oliveira@ufc.br](mailto:marcos.oliveira@ufc.br))\n",
        "\n",
        "Parcialmente adaptado de: [*Introdução à Mineração de Dados: Conceitos Básicos, Algoritmos e Aplicações.*](https://app.minhabiblioteca.com.br/reader/books/978-85-472-0100-5/pageid/45)\n"
      ]
    },
    {
      "cell_type": "markdown",
      "metadata": {
        "id": "i4MPQElHUCeH"
      },
      "source": [
        "## Limpeza de dados"
      ]
    },
    {
      "cell_type": "markdown",
      "metadata": {
        "id": "UsUbz0x_UCeH"
      },
      "source": [
        "**Limpeza de dados**\n",
        "\n",
        "O primeiro passo é verificar se a base necessita de algum procedimento de limpeza de dados.\n",
        "\n",
        "Alguns objetos podem ter informações faltantes. Uma das opções é eliminar esses objetos, reduzindo o tamanho da base; contudo, a remoção pode causar perda de informação importante."
      ]
    },
    {
      "cell_type": "markdown",
      "metadata": {
        "id": "FG-TbfE4UCeH"
      },
      "source": [
        "**Valores ausentes**\n",
        "Um valor ausente costuma ser representado por um código de ausência, que pode ser um valor específico, um espaço em branco ou um símbolo (por exemplo, ''np.NaN''). Um valor ausente caracteriza um valor ignorado ou que não foi observado, e, nesse sentido, a substituição de valores ausentes, também conhecida como imputação, tem como objetivo estimar os valores ausentes com base nas informações disponíveis no conjunto de dados."
      ]
    },
    {
      "cell_type": "markdown",
      "metadata": {
        "id": "Wauw2eySUCeH"
      },
      "source": [
        "A imputação de valores ausentes assume que essa ausência de valor implica a perda de informação relevante de algum atributo.\n"
      ]
    },
    {
      "cell_type": "markdown",
      "metadata": {
        "id": "BU3i4Y8tUCeH"
      },
      "source": [
        "Os métodos tradicionais de imputação de valores ausentes são:"
      ]
    },
    {
      "cell_type": "markdown",
      "metadata": {
        "id": "8Z9WE0uhUCeH"
      },
      "source": [
        "1.  **Ignorar o objeto**: consiste em remover da base (ignorar) todos aqueles objetos que possuem um ou mais valores ausentes.\n",
        "2. **Imputar manualmente os valores ausentes**: consiste em escolher de forma empírica um valor a ser imputado para cada valor ausente.\n",
        "3. **Usar uma constante global para imputar o valor ausente**: corresponde a substituir todos os valores ausentes de certo atributo por uma constante única.\n",
        "4. **Imputação do tipo hot-deck**: um valor ausente é imputado usando o valor do mesmo atributo de um objeto similar aleatoriamente selecionado.\n"
      ]
    },
    {
      "cell_type": "markdown",
      "metadata": {
        "id": "rSUGJpBaUCeH"
      },
      "source": [
        "5. **Imputar de acordo com a última observação (last observation carried forward)**: consiste em ordenar a base de dados seguindo um ou mais de seus atributos e então busca cada valor ausente e usa aquele valor da célula imediatamente anterior para imputar o valor ausente.\n",
        "6. **Usar a média ou moda de um atributo para imputar o valor ausente**: o método consiste em substituir os valores ausentes de cada atributo pela média (no caso de atributos numéricos) ou moda (no caso de atributos nominais) dos valores do atributo.\n",
        "7. **Usar a média ou moda de todos os objetos da mesma classe para imputar o valor ausente**: a diferença deste método para o anterior é que a média ou moda é tomada considerando apenas os objetos da mesma classe daquele que contém o valor ausente.\n",
        "8. **Usar modelos preditivos para imputar o valor ausente**: qualquer método preditivo pode ser usado para estimar o valor ausente."
      ]
    },
    {
      "cell_type": "markdown",
      "metadata": {
        "id": "lMaZOI5YUCeH"
      },
      "source": [
        "Uma abordagem mais sistemática de tratamento de valores ausentes deve considerar quatro passos:\n",
        "\n",
        "* investigar as razões dos dados ausentes de forma que os evite;\n",
        "* investigar o impacto dos dados ausentes no resultado das análises a serem feitas em termos de confiabilidade, validade e generalização das conclusões;\n",
        "* considerar os vários métodos de imputação de valores ausentes; e\n",
        "* investigar o resultado da aplicação de cada um dos métodos considerados no passo anterior.\n"
      ]
    },
    {
      "cell_type": "markdown",
      "metadata": {
        "id": "2AwXvQRcUCeH"
      },
      "source": [
        "## Redução de dados"
      ]
    },
    {
      "cell_type": "markdown",
      "metadata": {
        "id": "m_DFzcqbUCeH"
      },
      "source": [
        "**Redução dos dados**\n",
        "\n",
        "A redução dos dados tem como um dos objetivos a construção de bases de dados menores para aumento do desempenho computacional, ao mesmo tempo que tenta manter as características originais dos dados."
      ]
    },
    {
      "cell_type": "markdown",
      "metadata": {
        "id": "h49bq291UCeH"
      },
      "source": [
        "O aumento do número de objetos e da dimensão do espaço (número de atributos na base) pode fazer com que os dados disponíveis se tornem esparsos e as medidas matemáticas usadas na análise tornem-se numericamente instáveis. ."
      ]
    },
    {
      "cell_type": "markdown",
      "metadata": {
        "id": "J659okdcUCeI"
      },
      "source": [
        "Além disso, uma quantidade muito grande de objetos e atributos pode tornar o processamento dos algoritmos de mineração muito complexo."
      ]
    },
    {
      "cell_type": "markdown",
      "metadata": {
        "id": "3d6uuJJ8UCeI"
      },
      "source": [
        "As técnicas de redução de dados podem ser aplicadas tanto para reduzir a quantidade de objetos da base quanto para reduzir a quantidade de atributos que os descrevem (dimensionalidade),"
      ]
    },
    {
      "cell_type": "markdown",
      "metadata": {
        "id": "fy8SeQ3TUCeI"
      },
      "source": [
        "Dentre os métodos de redução de dados destacam-se:\n",
        "\n",
        "* **Seleção de atributos (ou características)**: efetua uma redução de dimensionalidade na qual atributos irrelevantes, pouco relevantes ou redundantes são detectados e removidos.\n",
        "* **Compressão de atributos**: também efetua uma redução da dimensionalidade, mas empregando algoritmos de codificação ou transformação de dados (atributos), em vez de seleção.\n",
        "* **Redução no número de dados**: neste método, os dados são removidos, substituídos ou estimados por representações menores (mais simples), como modelos paramétricos (que armazenam apenas os parâmetros do modelo em vez dos dados) e os métodos não paramétricos, como agrupamento, amostragem e histogramas.\n",
        "* **Discretização**: os valores de atributos são substituídos por intervalos ou níveis conceituais mais elevados, reduzindo a quantidade final de atributos.\n",
        "\n"
      ]
    },
    {
      "cell_type": "markdown",
      "metadata": {
        "id": "S08lo7DGUCeI"
      },
      "source": [
        "### Redução do número de dados"
      ]
    },
    {
      "cell_type": "markdown",
      "metadata": {
        "id": "mAKHokcUUCeI"
      },
      "source": [
        "Métodos de **amostragem** tem como objetivo selecionar um subconjunto de objetos de uma base que seja representativo de toda ela para efeitos de análise ou estudo."
      ]
    },
    {
      "cell_type": "markdown",
      "metadata": {
        "id": "IuW5ANnCUCeI"
      },
      "source": [
        "Os principais métodos de amostragem são:\n",
        "* **Amostragem aleatória sem substituição**: uma amostra com $n$ objetos distintos $(n < N)$ é retirada aleatoriamente da base de dados.\n",
        "* **Amostragem aleatória com substituição**: similar ao caso anterior, mas cada objeto retirado da base é armazenado e devolvido à base, de forma que ele possa ser selecionado novamente.\n",
        "* **Amostragem sistemática**: consiste em organizar a base de dados seguindo algum critério, por exemplo, do menor ao maior valor de algum atributo do objeto ou do objeto mais antigo ao mais novo, e selecionar objetos de forma sistemática, como por exemplo, os objetos cujos índices são pares ou apenas os objetos gerados no ano atual.\n"
      ]
    },
    {
      "cell_type": "markdown",
      "metadata": {
        "id": "ESN8Y8LdUCeI"
      },
      "source": [
        "* **Amostragem por grupo**: se uma base de dados está agrupada em M grupos disjuntos, então $m$ grupos $(m < M)$ podem ser escolhidos aleatoriamente.\n",
        "* **Amostragem estratificada**: se a base de dados está dividida em grupos ou classes, então na amostragem estratificada a proporção de dados de cada classe é mantida."
      ]
    },
    {
      "cell_type": "markdown",
      "metadata": {
        "id": "Oecn-U-_UCeI"
      },
      "source": [
        "Uma vantagem da amostragem é que seu custo computacional é proporcional ao tamanho da amostra a ser retirada da base e, portanto, é sublinear em relação ao tamanho original da base.\n",
        "\n",
        "A principal desvantagem do método é o possível erro do processo de mineração por causa da amostragem."
      ]
    },
    {
      "cell_type": "markdown",
      "metadata": {
        "id": "6t-3_KXAUCeI"
      },
      "source": [
        "### Compressão de atributos"
      ]
    },
    {
      "cell_type": "markdown",
      "metadata": {
        "id": "zOuGJ8JjUCeI"
      },
      "source": [
        "\n",
        "As técnicas de compressão aplicam uma codificação ou transformação para que uma representação compacta dos dados ou atributos originais seja obtida.\n",
        "Se os dados originais puderem ser reconstruídos a partir dos dados comprimidos sem perda de informação, então dizemos que o método de compressão é sem perda (*lossless*); senão, dizemos que é com perda (*lossy*)."
      ]
    },
    {
      "cell_type": "markdown",
      "metadata": {
        "id": "pB9Y0iwzUCeI"
      },
      "source": [
        "A **análise de componentes principais** (*Principal Component Analysis* – PCA), um dos métodos mais úteis e eficazes na compressão de dados, é um procedimento estatístico que converte um conjunto de objetos com atributos possivelmente correlacionados em um conjunto de objetos com atributos linearmente descorrelacionados, chamados de compo-nentes principais."
      ]
    },
    {
      "cell_type": "markdown",
      "metadata": {
        "id": "i69R97bcUCeI"
      },
      "source": [
        "A análise de componentes principais é a principal técnica linear para a redução de dimensionalidade dos dados. Ela realiza um mapeamento linear (também chamado de projeção) dos dados em um espaço de dimensão menor, a fim de que a variância dos dados nesse espaço seja maximizada."
      ]
    },
    {
      "cell_type": "markdown",
      "metadata": {
        "id": "DWte1pYtUCeI"
      },
      "source": [
        "### Modelos de aproximação"
      ]
    },
    {
      "cell_type": "markdown",
      "metadata": {
        "id": "Znx6VfFFUCeI"
      },
      "source": [
        "Os *modelos de aproximação* de dados operam de forma completamente diferente dos métodos amostrais, e seu objetivo é representar ou ajustar os dados usando algum modelo que pode ser definido ou não por um conjunto de parâmetros."
      ]
    },
    {
      "cell_type": "markdown",
      "metadata": {
        "id": "76qy1l0BUCeI"
      },
      "source": [
        "## Transformação de dados"
      ]
    },
    {
      "cell_type": "markdown",
      "metadata": {
        "id": "2NXBqXYWUCeI"
      },
      "source": [
        "**Transformação**\n",
        "\n",
        "Os métodos de transformação de dados visam modificar ou consolidar os dados em formas apropriadas aos processos de mineração. Por exemplo, pode haver valores de um mesmo atributo escritos em maiúsculo e outros em minúsculo, e os formatos e as unidades podem ser diferentes. Problemas dessa natureza são resolvidos padronizando ou normalizando os dados."
      ]
    },
    {
      "cell_type": "markdown",
      "metadata": {
        "id": "4d90FFQhUCeI"
      },
      "source": [
        "### Padronização\n",
        "\n",
        "O objetivo principal da padronização é resolver as diferenças de unidades e escalas dos dados."
      ]
    },
    {
      "cell_type": "markdown",
      "metadata": {
        "id": "VWsA5TarUCeI"
      },
      "source": [
        "Exemplos de transformação:\n",
        "\n",
        "* **Capitalização**: dados nominais podem aparecer em minúsculo, maiúsculo ou ambos. Para evitar inconsistências com ferramentas sensíveis a letras maiúsculas ou minúsculas, é usual padronizar as fontes, normalmente para maiúsculo.\n",
        "* **Caracteres especiais**: algumas ferramentas de mineração de dados podem ser sensíveis ao conjunto de caracteres utilizado em determinado idioma. Por exemplo, ferramentas projetadas para bases de dados na língua inglesa podem apresentar problemas decorrentes da acentuação utilizada na língua portuguesa. Uma simples troca de letras em valores nominais pode evitar eventuais problemas.\n"
      ]
    },
    {
      "cell_type": "markdown",
      "metadata": {
        "id": "uCl9hyXxUCeJ"
      },
      "source": [
        "* **Padronização de formatos**: o uso de alguns tipos de atributos, como datas e números de documentos, permite diferentes formatos. Por exemplo, datas podem ser apresentadas DDMMAAAA ou MMDDAAAA (dependendo do país de origem), um número de CPF pode ser apresentado como XXX.XXX.XXX-XX ou como XXXXXXXXXXX. Para evitar esses problemas, é preciso observar e padronizar o formato de cada atributo da base, principalmente quando diferentes bases precisam ser integradas.\n",
        "* **Conversão de unidades**: outro problema comum nas bases brutas é o uso de diferentes unidades de medida – por exemplo, centímetros ou metros, quilômetros por hora ou milhas por hora etc. Nesse caso, vale o mesmo princípio discutido anteriormente: todos os dados devem ser convertidos e padronizados em uma mesma unidade de medida.\n"
      ]
    },
    {
      "cell_type": "markdown",
      "metadata": {
        "id": "xHJer5cdUCeJ"
      },
      "source": [
        "### Normalização\n",
        "\n",
        "A normalização é um processo de transformação dos dados que objetiva torná-los mais apro-priados à aplicação de algum algoritmo de mineração, como redes neurais artificiais ou métodos baseados em distância. A necessidade de normalização pode ser consequência de diversos fatores, como evitar a saturação dos neurônios em uma rede neural artificial de múltiplas camadas e fazer com que cada atributo dos dados de entrada tenha o mesmo domínio.\n"
      ]
    },
    {
      "cell_type": "markdown",
      "metadata": {
        "id": "-5fAWxodUCeJ"
      },
      "source": [
        "#### Normalização Max-Min\n",
        "\n",
        "A normalização Max-Min realiza uma transformação linear nos dados originais. Assuma que $max_a$ e $min_a$ são, respectivamente, os valores máximo e mínimo de determinado\n",
        "atributo $a$. A normalização max-min mapeia um valor a em um valor $a'$ no domínio $[novo\\_{}min_a, novo\\_{}max_a]$, de acordo com seguinte equação:\n",
        "\n",
        "$$a' = \\frac{a - min_a}{max_a - min_a} (novo\\_{}max_a - novo\\_{}min_a) + novo\\_{}min_a$$\n",
        "\n",
        "A aplicação mais frequente dessa normalização é colocar todos os atributos de uma base de dados sob um mesmo intervalo de valores, por exemplo no intervalo [0, 1]."
      ]
    },
    {
      "cell_type": "markdown",
      "metadata": {
        "id": "lyhKxqwYUCeJ"
      },
      "source": [
        "#### Normalização pelo z-score\n",
        "\n",
        "Também conhecida por normalização de média zero, os valores de um atributo $a$ são normalizados tendo como base a média e o desvio padrão de $a$,\n",
        "\n",
        "$$a' = \\frac{(a - \\overline{a})}{\\sigma_a}$$\n",
        "\n",
        "onde $\\overline{a}$ é a média e $\\sigma_a$ o desvio padrão de $a$."
      ]
    },
    {
      "cell_type": "markdown",
      "metadata": {
        "id": "6RnF06P_UCeJ"
      },
      "source": [
        "#### Normalização pelo escalonamento decimal\n",
        "\n",
        "A normalização pelo escalonamento decimal move a casa decimal dos valores do atributo $a$. O número de casas decimais movidas depende do valor máximo absoluto do atributo $a$.\n",
        "\n",
        "$$ a' = \\frac{a}{10^j} $$\n",
        "\n",
        "onde $j$ é o menor inteiro tal que $|a'| < 1$."
      ]
    },
    {
      "cell_type": "markdown",
      "metadata": {
        "id": "D4fYEV5DUCeJ"
      },
      "source": [
        "#### Normalização pelo interquartil\n",
        "\n",
        "A normalização interquartil toma cada valor do atributo, subtrai a mediana e divide pelo intervalo interquartil (IQR, do inglês *interquartile range*).\n",
        "\n",
        "Os quartis de um atributo ordenado são os três pontos que dividem o domínio do atributo em quatro grupos de cardinalidades iguais, cada qual composto por um quarto da quantidade total de dados.\n",
        "\n",
        "* O primeiro quartil, $Q_1$ é definido como o ponto central entre o menor valor e a mediana;\n",
        "* O segundo quartil, $Q_2$, é a mediana, que divide o conjunto de dados ordenados em dois subconjuntos, cada um contendo metade da quantidade total dos dados;\n",
        "* O terceiro quartil, $Q_3$, é o valor do meio entre a mediana e o maior valor do atributo.\n",
        "\n",
        "A normalização interquartil opera de acordo com a seguinte equação:\n",
        "\n",
        "$$ a' = \\frac{a - Q_2}{Q_3 - Q_1} $$\n",
        "\n"
      ]
    },
    {
      "cell_type": "markdown",
      "metadata": {
        "id": "xINc18hhUCeJ"
      },
      "source": [
        "## Discretização"
      ]
    },
    {
      "cell_type": "markdown",
      "metadata": {
        "id": "5129vfRdUCeJ"
      },
      "source": [
        "**Discretização**\n",
        "\n",
        "Muitos algoritmos em mineração de dados não trabalham com dados mistos, ou seja, bases de dados com atributos categóricos e contínuos.\n",
        "\n",
        "Nesses casos, atributos numéricos podem ser discretizados, dividindo o domínio do atributo em intervalos e ampliando a quantidade de métodos de análise disponíveis para aplicação."
      ]
    },
    {
      "cell_type": "markdown",
      "metadata": {
        "id": "e_tpaTRbUCeJ"
      },
      "source": [
        "Além disso, a discretização reduz a quantidade de valores de um dado atributo contínuo, facilitando, em muitos casos, o processo de mineração.\n"
      ]
    },
    {
      "cell_type": "markdown",
      "metadata": {
        "id": "vVA49u8rUCeJ"
      },
      "source": [
        "A maneira mais óbvia de discretizar um certo atributo é dividindo seu domínio em um número predeterminado de intervalos iguais, o que normalmente é feito no momento da coleta dos dados."
      ]
    },
    {
      "cell_type": "markdown",
      "metadata": {
        "id": "CFVDREZ5UCeJ"
      },
      "source": [
        "#### Encaixotamento (*binning*)\n",
        "Atributos podem ser discretizados distribuindo-se seus valores em intervalos (*bins*) e substituindo-se o valor de cada intervalo pela média ou mediana.\n",
        "\n",
        "Há  dois tipos de métodos de encaixotamento: de mesma largura (o intervalo de cada caixa tem o mesmo tamanho) e de mesma frequência (a quantidade de objetos em cada caixa é a mesma).\n"
      ]
    },
    {
      "cell_type": "markdown",
      "metadata": {
        "id": "C42j8H27UCeJ"
      },
      "source": [
        "\n",
        "Em ambos os casos, o método de encaixotamento funciona da seguinte maneira: (1) ordene os valores do atributo, (2) defina a quantidade de caixas, (3) escolha um ou mais valores representativos daquela caixa e (4) substi-tua todos os valores da caixa por esses valores.\n",
        "\n",
        "O valor representativo pode ser calculado de diferentes maneiras, por exemplo, pela média ou moda da caixa, ou pelos valores extremos da caixa, sendo que, neste último, cada valor dentro da caixa é substituído pelo extremo mais próximo."
      ]
    },
    {
      "cell_type": "markdown",
      "metadata": {
        "id": "rmOzrkzpUCeJ"
      },
      "source": [
        "#### Histogramas\n",
        "\n",
        "Similar à discretização por encaixotamento, a discretização por histogramas utiliza faixas para definir os intervalos de valores do atributo. Após a definição do histograma, os valores do atributo são substituídos de acordo com a faixa na qual estes se encontram; com isso, a quantidade de valores discretos dependerá da quantidade de faixas escolhidas."
      ]
    },
    {
      "cell_type": "markdown",
      "metadata": {
        "id": "ViJDllanUCeJ"
      },
      "source": [
        "#### Agrupamentos\n",
        "\n",
        "Algoritmos de agrupamento são utilizados para particionar o atributo em grupos de valores seguindo um critério preestabelecido. Cada grupo de valores é representado por um protótipo que é utilizado em substituição aos valores que pertencem ao grupo, e diferentes métodos de agrupamento podem ser utilizados para realização dessa tarefa."
      ]
    },
    {
      "cell_type": "markdown",
      "metadata": {
        "id": "qT3UXpzkUCeK"
      },
      "source": [
        "## Exemplo de Preparação de Dados"
      ]
    },
    {
      "cell_type": "markdown",
      "metadata": {
        "id": "cXk6kYy9UCeK"
      },
      "source": [
        "**Dataset**: [Food choices: College students' food and cooking preferences](https://www.kaggle.com/datasets/borapajo/food-choices?select=food_coded.csv)\n",
        "\n",
        "Esta base de dados inclui informações sobre escolhas alimentares, nutrição, preferências, favoritos da infância e outras informações de estudantes universitários. Existem 126 respostas de alunos. Os dados são brutos e não limpos."
      ]
    },
    {
      "cell_type": "code",
      "execution_count": null,
      "metadata": {
        "id": "H7ZvdqkAUCeK",
        "outputId": "6dd98e35-fdbd-40f9-af61-b356cbd782ba"
      },
      "outputs": [
        {
          "data": {
            "text/plain": [
              "(125, 61)"
            ]
          },
          "execution_count": 137,
          "metadata": {},
          "output_type": "execute_result"
        }
      ],
      "source": [
        "import pandas as pd\n",
        "import numpy as np\n",
        "\n",
        "df = pd.read_csv(\"https://raw.githubusercontent.com/She-Codes-Now/Intro-to-Data-Science-with-R/master/food_coded.csv\")\n",
        "df.shape"
      ]
    },
    {
      "cell_type": "markdown",
      "metadata": {
        "id": "_3AG1U-UUCeK"
      },
      "source": [
        "### Redução de dados"
      ]
    },
    {
      "cell_type": "code",
      "execution_count": null,
      "metadata": {
        "id": "faxcU34qUCeK",
        "outputId": "db9df8d6-29fb-49dc-8433-60b2bf9f662c"
      },
      "outputs": [
        {
          "data": {
            "text/html": [
              "<div>\n",
              "<style scoped>\n",
              "    .dataframe tbody tr th:only-of-type {\n",
              "        vertical-align: middle;\n",
              "    }\n",
              "\n",
              "    .dataframe tbody tr th {\n",
              "        vertical-align: top;\n",
              "    }\n",
              "\n",
              "    .dataframe thead th {\n",
              "        text-align: right;\n",
              "    }\n",
              "</style>\n",
              "<table border=\"1\" class=\"dataframe\">\n",
              "  <thead>\n",
              "    <tr style=\"text-align: right;\">\n",
              "      <th></th>\n",
              "      <th>GPA</th>\n",
              "      <th>Gender</th>\n",
              "      <th>breakfast</th>\n",
              "      <th>calories_chicken</th>\n",
              "      <th>calories_day</th>\n",
              "      <th>calories_scone</th>\n",
              "      <th>coffee</th>\n",
              "      <th>comfort_food</th>\n",
              "      <th>comfort_food_reasons</th>\n",
              "      <th>comfort_food_reasons_coded</th>\n",
              "      <th>...</th>\n",
              "      <th>sports</th>\n",
              "      <th>thai_food</th>\n",
              "      <th>tortilla_calories</th>\n",
              "      <th>turkey_calories</th>\n",
              "      <th>type_sports</th>\n",
              "      <th>veggies_day</th>\n",
              "      <th>vitamins</th>\n",
              "      <th>waffle_calories</th>\n",
              "      <th>weight</th>\n",
              "      <th>weight_kg</th>\n",
              "    </tr>\n",
              "  </thead>\n",
              "  <tbody>\n",
              "    <tr>\n",
              "      <th>2</th>\n",
              "      <td>3.3</td>\n",
              "      <td>1</td>\n",
              "      <td>1</td>\n",
              "      <td>720</td>\n",
              "      <td>4.0</td>\n",
              "      <td>420.0</td>\n",
              "      <td>2</td>\n",
              "      <td>frozen yogurt, pizza, fast food</td>\n",
              "      <td>stress, sadness</td>\n",
              "      <td>1.0</td>\n",
              "      <td>...</td>\n",
              "      <td>2.0</td>\n",
              "      <td>5</td>\n",
              "      <td>1165.0</td>\n",
              "      <td>500</td>\n",
              "      <td>none</td>\n",
              "      <td>5</td>\n",
              "      <td>1</td>\n",
              "      <td>900</td>\n",
              "      <td>NaN</td>\n",
              "      <td>NaN</td>\n",
              "    </tr>\n",
              "    <tr>\n",
              "      <th>8</th>\n",
              "      <td>3.3</td>\n",
              "      <td>1</td>\n",
              "      <td>1</td>\n",
              "      <td>430</td>\n",
              "      <td>NaN</td>\n",
              "      <td>420.0</td>\n",
              "      <td>1</td>\n",
              "      <td>Donuts, ice cream, chips</td>\n",
              "      <td>Boredom</td>\n",
              "      <td>2.0</td>\n",
              "      <td>...</td>\n",
              "      <td>2.0</td>\n",
              "      <td>5</td>\n",
              "      <td>725.0</td>\n",
              "      <td>345</td>\n",
              "      <td>none</td>\n",
              "      <td>3</td>\n",
              "      <td>2</td>\n",
              "      <td>760</td>\n",
              "      <td>180.0</td>\n",
              "      <td>81.646560</td>\n",
              "    </tr>\n",
              "    <tr>\n",
              "      <th>9</th>\n",
              "      <td>3.3</td>\n",
              "      <td>1</td>\n",
              "      <td>1</td>\n",
              "      <td>430</td>\n",
              "      <td>3.0</td>\n",
              "      <td>315.0</td>\n",
              "      <td>2</td>\n",
              "      <td>Mac and cheese, chocolate, and pasta</td>\n",
              "      <td>Stress, anger and sadness</td>\n",
              "      <td>1.0</td>\n",
              "      <td>...</td>\n",
              "      <td>1.0</td>\n",
              "      <td>4</td>\n",
              "      <td>580.0</td>\n",
              "      <td>345</td>\n",
              "      <td>field hockey</td>\n",
              "      <td>5</td>\n",
              "      <td>1</td>\n",
              "      <td>900</td>\n",
              "      <td>125.0</td>\n",
              "      <td>56.699000</td>\n",
              "    </tr>\n",
              "    <tr>\n",
              "      <th>10</th>\n",
              "      <td>3.5</td>\n",
              "      <td>1</td>\n",
              "      <td>1</td>\n",
              "      <td>610</td>\n",
              "      <td>3.0</td>\n",
              "      <td>980.0</td>\n",
              "      <td>2</td>\n",
              "      <td>Pasta, grandma homemade chocolate cake anythin...</td>\n",
              "      <td>Boredom</td>\n",
              "      <td>2.0</td>\n",
              "      <td>...</td>\n",
              "      <td>1.0</td>\n",
              "      <td>2</td>\n",
              "      <td>940.0</td>\n",
              "      <td>345</td>\n",
              "      <td>soccer</td>\n",
              "      <td>5</td>\n",
              "      <td>2</td>\n",
              "      <td>900</td>\n",
              "      <td>116.0</td>\n",
              "      <td>52.616672</td>\n",
              "    </tr>\n",
              "    <tr>\n",
              "      <th>12</th>\n",
              "      <td>3.4</td>\n",
              "      <td>2</td>\n",
              "      <td>1</td>\n",
              "      <td>430</td>\n",
              "      <td>3.0</td>\n",
              "      <td>420.0</td>\n",
              "      <td>2</td>\n",
              "      <td>Cookies, popcorn, and chips</td>\n",
              "      <td>Sadness, boredom, late night snack</td>\n",
              "      <td>3.0</td>\n",
              "      <td>...</td>\n",
              "      <td>1.0</td>\n",
              "      <td>3</td>\n",
              "      <td>940.0</td>\n",
              "      <td>500</td>\n",
              "      <td>Soccer and basketball</td>\n",
              "      <td>3</td>\n",
              "      <td>2</td>\n",
              "      <td>575</td>\n",
              "      <td>264.0</td>\n",
              "      <td>119.748288</td>\n",
              "    </tr>\n",
              "    <tr>\n",
              "      <th>...</th>\n",
              "      <td>...</td>\n",
              "      <td>...</td>\n",
              "      <td>...</td>\n",
              "      <td>...</td>\n",
              "      <td>...</td>\n",
              "      <td>...</td>\n",
              "      <td>...</td>\n",
              "      <td>...</td>\n",
              "      <td>...</td>\n",
              "      <td>...</td>\n",
              "      <td>...</td>\n",
              "      <td>...</td>\n",
              "      <td>...</td>\n",
              "      <td>...</td>\n",
              "      <td>...</td>\n",
              "      <td>...</td>\n",
              "      <td>...</td>\n",
              "      <td>...</td>\n",
              "      <td>...</td>\n",
              "      <td>...</td>\n",
              "      <td>...</td>\n",
              "    </tr>\n",
              "    <tr>\n",
              "      <th>115</th>\n",
              "      <td>3.3</td>\n",
              "      <td>2</td>\n",
              "      <td>1</td>\n",
              "      <td>610</td>\n",
              "      <td>4.0</td>\n",
              "      <td>980.0</td>\n",
              "      <td>2</td>\n",
              "      <td>chocolate bar, ice cream, pretzels, potato chi...</td>\n",
              "      <td>Stress, boredom and physical activity</td>\n",
              "      <td>NaN</td>\n",
              "      <td>...</td>\n",
              "      <td>1.0</td>\n",
              "      <td>1</td>\n",
              "      <td>1165.0</td>\n",
              "      <td>690</td>\n",
              "      <td>Hockey</td>\n",
              "      <td>2</td>\n",
              "      <td>2</td>\n",
              "      <td>1315</td>\n",
              "      <td>150.0</td>\n",
              "      <td>68.038800</td>\n",
              "    </tr>\n",
              "    <tr>\n",
              "      <th>116</th>\n",
              "      <td>3.4</td>\n",
              "      <td>1</td>\n",
              "      <td>1</td>\n",
              "      <td>610</td>\n",
              "      <td>NaN</td>\n",
              "      <td>420.0</td>\n",
              "      <td>2</td>\n",
              "      <td>Ice cream, chocolate, pizza, cucumber</td>\n",
              "      <td>loneliness, homework, boredom</td>\n",
              "      <td>NaN</td>\n",
              "      <td>...</td>\n",
              "      <td>2.0</td>\n",
              "      <td>5</td>\n",
              "      <td>725.0</td>\n",
              "      <td>345</td>\n",
              "      <td>none</td>\n",
              "      <td>5</td>\n",
              "      <td>1</td>\n",
              "      <td>1315</td>\n",
              "      <td>170.0</td>\n",
              "      <td>77.110640</td>\n",
              "    </tr>\n",
              "    <tr>\n",
              "      <th>122</th>\n",
              "      <td>3.882</td>\n",
              "      <td>1</td>\n",
              "      <td>1</td>\n",
              "      <td>720</td>\n",
              "      <td>NaN</td>\n",
              "      <td>420.0</td>\n",
              "      <td>1</td>\n",
              "      <td>rice, potato, seaweed soup</td>\n",
              "      <td>sadness</td>\n",
              "      <td>NaN</td>\n",
              "      <td>...</td>\n",
              "      <td>2.0</td>\n",
              "      <td>5</td>\n",
              "      <td>580.0</td>\n",
              "      <td>690</td>\n",
              "      <td>none</td>\n",
              "      <td>4</td>\n",
              "      <td>2</td>\n",
              "      <td>1315</td>\n",
              "      <td>120.0</td>\n",
              "      <td>54.431040</td>\n",
              "    </tr>\n",
              "    <tr>\n",
              "      <th>123</th>\n",
              "      <td>3</td>\n",
              "      <td>2</td>\n",
              "      <td>1</td>\n",
              "      <td>720</td>\n",
              "      <td>4.0</td>\n",
              "      <td>420.0</td>\n",
              "      <td>1</td>\n",
              "      <td>Mac n Cheese, Lasagna, Pizza</td>\n",
              "      <td>happiness, they are some of my favorite foods</td>\n",
              "      <td>NaN</td>\n",
              "      <td>...</td>\n",
              "      <td>2.0</td>\n",
              "      <td>1</td>\n",
              "      <td>940.0</td>\n",
              "      <td>500</td>\n",
              "      <td>NaN</td>\n",
              "      <td>3</td>\n",
              "      <td>1</td>\n",
              "      <td>1315</td>\n",
              "      <td>135.0</td>\n",
              "      <td>61.234920</td>\n",
              "    </tr>\n",
              "    <tr>\n",
              "      <th>124</th>\n",
              "      <td>3.9</td>\n",
              "      <td>1</td>\n",
              "      <td>1</td>\n",
              "      <td>430</td>\n",
              "      <td>NaN</td>\n",
              "      <td>315.0</td>\n",
              "      <td>2</td>\n",
              "      <td>Chocolates, pizza, and Ritz.</td>\n",
              "      <td>hormones, Premenstrual syndrome.</td>\n",
              "      <td>NaN</td>\n",
              "      <td>...</td>\n",
              "      <td>2.0</td>\n",
              "      <td>2</td>\n",
              "      <td>725.0</td>\n",
              "      <td>345</td>\n",
              "      <td>NaN</td>\n",
              "      <td>4</td>\n",
              "      <td>2</td>\n",
              "      <td>575</td>\n",
              "      <td>135.0</td>\n",
              "      <td>61.234920</td>\n",
              "    </tr>\n",
              "  </tbody>\n",
              "</table>\n",
              "<p>65 rows × 62 columns</p>\n",
              "</div>"
            ],
            "text/plain": [
              "       GPA  Gender  breakfast  calories_chicken  calories_day  calories_scone  \\\n",
              "2      3.3       1          1               720           4.0           420.0   \n",
              "8      3.3       1          1               430           NaN           420.0   \n",
              "9      3.3       1          1               430           3.0           315.0   \n",
              "10     3.5       1          1               610           3.0           980.0   \n",
              "12     3.4       2          1               430           3.0           420.0   \n",
              "..     ...     ...        ...               ...           ...             ...   \n",
              "115    3.3       2          1               610           4.0           980.0   \n",
              "116    3.4       1          1               610           NaN           420.0   \n",
              "122  3.882       1          1               720           NaN           420.0   \n",
              "123      3       2          1               720           4.0           420.0   \n",
              "124    3.9       1          1               430           NaN           315.0   \n",
              "\n",
              "     coffee                                       comfort_food  \\\n",
              "2         2                    frozen yogurt, pizza, fast food   \n",
              "8         1                           Donuts, ice cream, chips   \n",
              "9         2              Mac and cheese, chocolate, and pasta    \n",
              "10        2  Pasta, grandma homemade chocolate cake anythin...   \n",
              "12        2                        Cookies, popcorn, and chips   \n",
              "..      ...                                                ...   \n",
              "115       2  chocolate bar, ice cream, pretzels, potato chi...   \n",
              "116       2             Ice cream, chocolate, pizza, cucumber    \n",
              "122       1                         rice, potato, seaweed soup   \n",
              "123       1                       Mac n Cheese, Lasagna, Pizza   \n",
              "124       2                       Chocolates, pizza, and Ritz.   \n",
              "\n",
              "                              comfort_food_reasons  \\\n",
              "2                                  stress, sadness   \n",
              "8                                         Boredom    \n",
              "9                       Stress, anger and sadness    \n",
              "10                                        Boredom    \n",
              "12             Sadness, boredom, late night snack    \n",
              "..                                             ...   \n",
              "115          Stress, boredom and physical activity   \n",
              "116                 loneliness, homework, boredom    \n",
              "122                                        sadness   \n",
              "123  happiness, they are some of my favorite foods   \n",
              "124               hormones, Premenstrual syndrome.   \n",
              "\n",
              "     comfort_food_reasons_coded  ...  sports  thai_food  tortilla_calories  \\\n",
              "2                           1.0  ...     2.0          5             1165.0   \n",
              "8                           2.0  ...     2.0          5              725.0   \n",
              "9                           1.0  ...     1.0          4              580.0   \n",
              "10                          2.0  ...     1.0          2              940.0   \n",
              "12                          3.0  ...     1.0          3              940.0   \n",
              "..                          ...  ...     ...        ...                ...   \n",
              "115                         NaN  ...     1.0          1             1165.0   \n",
              "116                         NaN  ...     2.0          5              725.0   \n",
              "122                         NaN  ...     2.0          5              580.0   \n",
              "123                         NaN  ...     2.0          1              940.0   \n",
              "124                         NaN  ...     2.0          2              725.0   \n",
              "\n",
              "    turkey_calories             type_sports  veggies_day vitamins  \\\n",
              "2               500                    none            5        1   \n",
              "8               345                    none            3        2   \n",
              "9               345            field hockey            5        1   \n",
              "10              345                  soccer            5        2   \n",
              "12              500  Soccer and basketball             3        2   \n",
              "..              ...                     ...          ...      ...   \n",
              "115             690                  Hockey            2        2   \n",
              "116             345                    none            5        1   \n",
              "122             690                    none            4        2   \n",
              "123             500                     NaN            3        1   \n",
              "124             345                     NaN            4        2   \n",
              "\n",
              "     waffle_calories  weight   weight_kg  \n",
              "2                900     NaN         NaN  \n",
              "8                760   180.0   81.646560  \n",
              "9                900   125.0   56.699000  \n",
              "10               900   116.0   52.616672  \n",
              "12               575   264.0  119.748288  \n",
              "..               ...     ...         ...  \n",
              "115             1315   150.0   68.038800  \n",
              "116             1315   170.0   77.110640  \n",
              "122             1315   120.0   54.431040  \n",
              "123             1315   135.0   61.234920  \n",
              "124              575   135.0   61.234920  \n",
              "\n",
              "[65 rows x 62 columns]"
            ]
          },
          "execution_count": 97,
          "metadata": {},
          "output_type": "execute_result"
        }
      ],
      "source": [
        "# Amostragem aleatória sem substituição\n",
        "df.sample(10)\n",
        "\n",
        "# Amostragem aleatória com substituição\n",
        "df.sample(10).sample(5, replace=True)\n",
        "\n",
        "# Amostragem sistemática\n",
        "df.sort_values(by='GPA')[::2]\n",
        "\n",
        "# Amostragem por grupo\n",
        "groups = df['grade_level'].unique()\n",
        "groups = np.random.choice(groups,2,replace=False)\n",
        "mask = df['grade_level'].apply(lambda x: x in groups)\n",
        "df[mask]\n",
        "\n",
        "# Amostragem estratificada\n",
        "df.groupby('Gender').apply(lambda d: d.sample(len(d)//10))\n",
        "\n"
      ]
    },
    {
      "cell_type": "markdown",
      "metadata": {
        "id": "1LkhNwTvUCeK"
      },
      "source": [
        "### Transformação de dados"
      ]
    },
    {
      "cell_type": "code",
      "execution_count": null,
      "metadata": {
        "id": "8XuwxsCoUCeK"
      },
      "outputs": [],
      "source": [
        "# Capitalização\n",
        "df['comfort_food'].str.lower()\n",
        "\n",
        "# Caracteres especiais\n",
        "df['comfort_food'].str.replace('/',',')\n",
        "\n",
        "pd.Series(['Quixadá','São Paulo']).str.normalize('NFD').str.encode('ascii',errors='ignore').str.decode('utf-8')\n",
        "\n",
        "# Padronização de formatos\n",
        "\n",
        "pd.Series(['123.456.789-10','12345678910']).str.replace('\\.|-','',regex=True)\n",
        "\n",
        "# Conversão de unidades\n",
        "df.loc[2,'weight']=np.nan\n",
        "df.loc[3,'weight']='240'\n",
        "df.loc[67,'weight']='144'\n",
        "df['weight'] = df['weight'].astype(float)\n",
        "(df['weight'] * 0.453592).mean()\n",
        "\n",
        "def convert(x):\n",
        "    try: return float(x)\n",
        "    except: return np.nan\n",
        "\n",
        "df['GPA'] = df['GPA'].apply(convert)"
      ]
    },
    {
      "cell_type": "code",
      "execution_count": null,
      "metadata": {
        "id": "k9teAsDFUCeL"
      },
      "outputs": [],
      "source": [
        "# Normalização Min-Max\n",
        "min_a, max_a = df['GPA'].min(), df['GPA'].max()\n",
        "novo_min_a = 0\n",
        "novo_max_a = 1\n",
        "\n",
        "((df['GPA'] - min_a)/(max_a - min_a))*(novo_max_a - novo_min_a) + novo_min_a\n",
        "\n",
        "# Normalização z-score\n",
        "\n",
        "((df['GPA'] - df['GPA'].mean())/df['GPA'].std()).sort_values()\n",
        "# Normalização por escala decimal\n",
        "\n",
        "# Normalização interquartil"
      ]
    },
    {
      "cell_type": "code",
      "execution_count": null,
      "metadata": {
        "id": "V9Iz1wRLUCeL",
        "outputId": "d45fb831-6680-4c9f-819c-a84e5b7c64a4"
      },
      "outputs": [
        {
          "data": {
            "text/plain": [
              "<AxesSubplot:>"
            ]
          },
          "execution_count": 149,
          "metadata": {},
          "output_type": "execute_result"
        },
        {
          "data": {
            "image/png": "[encoded data removed]",
            "text/plain": [
              "<Figure size 432x288 with 1 Axes>"
            ]
          },
          "metadata": {
            "needs_background": "light"
          },
          "output_type": "display_data"
        }
      ],
      "source": [
        "# Encaixotamento\n",
        "bins = pd.cut(df['weight'],4)\n",
        "bins.unique()\n",
        "# print(bins.value_counts())\n",
        "\n",
        "bins = pd.qcut(df['weight'],4)\n",
        "bins.unique()\n",
        "# print(bins.value_counts())\n",
        "\n",
        "pd.cut(df['weight'],4)\n",
        "\n",
        "df['weight'].hist(bins=4)\n",
        "\n",
        "\n",
        "\n",
        "# Histograma"
      ]
    },
    {
      "cell_type": "code",
      "execution_count": null,
      "metadata": {
        "id": "3c5bUL4eUCeL",
        "outputId": "435e598b-7583-47d1-816b-2d413bbfc6ce"
      },
      "outputs": [
        {
          "name": "stdout",
          "output_type": "stream",
          "text": [
            "original shape:    (200, 2)\n",
            "transformed shape: (200, 1)\n"
          ]
        },
        {
          "data": {
            "image/png": "[encoded data removed]",
            "text/plain": [
              "<Figure size 432x288 with 1 Axes>"
            ]
          },
          "metadata": {
            "needs_background": "light"
          },
          "output_type": "display_data"
        }
      ],
      "source": [
        "pca = PCA(n_components=1)\n",
        "pca.fit(X)\n",
        "X_pca = pca.transform(X)\n",
        "print(\"original shape:   \", X.shape)\n",
        "print(\"transformed shape:\", X_pca.shape)\n",
        "\n",
        "X_new = pca.inverse_transform(X_pca)\n",
        "plt.scatter(X[:, 0], X[:, 1], alpha=0.2)\n",
        "plt.scatter(X_new[:, 0], X_new[:, 1], alpha=0.8)\n",
        "plt.axis('equal');"
      ]
    }
  ],
  "metadata": {
    "celltoolbar": "Slideshow",
    "kernelspec": {
      "display_name": "Python 3 (ipykernel)",
      "language": "python",
      "name": "python3"
    },
    "language_info": {
      "codemirror_mode": {
        "name": "ipython",
        "version": 3
      },
      "file_extension": ".py",
      "mimetype": "text/x-python",
      "name": "python",
      "nbconvert_exporter": "python",
      "pygments_lexer": "ipython3",
      "version": "3.10.12"
    },
    "colab": {
      "provenance": []
    }
  },
  "nbformat": 4,
  "nbformat_minor": 0
}